{
 "cells": [
  {
   "cell_type": "markdown",
   "metadata": {},
   "source": [
    "# WeatherPy\n",
    "----\n",
    "\n",
    "#### Note\n",
    "* Instructions have been included for each segment. You do not have to follow them exactly, but they are included to help you think through the steps."
   ]
  },
  {
   "cell_type": "code",
   "execution_count": 1,
   "metadata": {
    "scrolled": true
   },
   "outputs": [],
   "source": [
    "# Dependencies and Setup\n",
    "import matplotlib.pyplot as plt\n",
    "import pandas as pd\n",
    "import numpy as np\n",
    "import requests\n",
    "import time\n",
    "import json\n",
    "from scipy.stats import linregress\n",
    "\n",
    "# Import API key\n",
    "from api_keys import weather_api_key\n",
    "\n",
    "\n",
    "# Incorporated citipy to determine city based on latitude and longitude\n",
    "from citipy import citipy\n",
    "\n",
    "# Output File (CSV)\n",
    "output_data_file = \"output_data/cities.csv\"\n",
    "\n",
    "# Range of latitudes and longitudes\n",
    "lat_range = (-90, 90)\n",
    "lng_range = (-180, 180)\n",
    "\n",
    "units = \"imperial\"\n",
    "#json URL\n",
    "#api key defined above, tempunits reported above\n",
    "\n",
    "base_url= f\"http://api.openweathermap.org/data/2.5/weather?units=Imperial&APPID={weather_api_key}\"\n",
    "\n"
   ]
  },
  {
   "cell_type": "markdown",
   "metadata": {},
   "source": [
    "## Generate Cities List"
   ]
  },
  {
   "cell_type": "code",
   "execution_count": 33,
   "metadata": {},
   "outputs": [
    {
     "name": "stdout",
     "output_type": "stream",
     "text": [
      "pulling cities and countries based off of the latitudes and longitudes generated\n",
      "done\n"
     ]
    }
   ],
   "source": [
    "# List for holding lat_lngs and cities\n",
    "lat_lngs = []\n",
    "cities = []\n",
    "\n",
    "\n",
    "# Create a set of random lat and lng combinations\n",
    "lats = np.random.uniform(lat_range[0], lat_range[1], size=1500)\n",
    "lngs = np.random.uniform(lng_range[0], lng_range[1], size=1500)\n",
    "#zip makes tuples from lats and lngs. If they are in the same position in both lists, they become paired as a tuple \n",
    "lat_lngs = zip(lats, lngs)\n",
    "print(\"pulling cities and countries based off of the latitudes and longitudes generated\")\n",
    "# Identify nearest city for each lat, lng combination\n",
    "for lat_lng in lat_lngs:\n",
    "    city = citipy.nearest_city(lat_lng[0], lat_lng[1]).city_name\n",
    "    \n",
    "   \n",
    "    # If the city is unique, then add it to a our cities list\n",
    "    if city not in cities:\n",
    "        cities.append(city)\n",
    "        \n",
    "       \n",
    "print(f\"done\")\n",
    "\n",
    "\n"
   ]
  },
  {
   "cell_type": "code",
   "execution_count": 34,
   "metadata": {},
   "outputs": [
    {
     "name": "stdout",
     "output_type": "stream",
     "text": [
      "619\n"
     ]
    }
   ],
   "source": [
    "#Make sure the lists are the same size\n",
    "print(len(cities))\n",
    "\n"
   ]
  },
  {
   "cell_type": "markdown",
   "metadata": {},
   "source": [
    "### Perform API Calls\n",
    "* Perform a weather check on each city using a series of successive API calls.\n",
    "* Include a print log of each city as it'sbeing processed (with the city number and city name).\n"
   ]
  },
  {
   "cell_type": "code",
   "execution_count": 36,
   "metadata": {},
   "outputs": [
    {
     "name": "stdout",
     "output_type": "stream",
     "text": [
      "\n",
      "--------------------------\n",
      "Beginning API Call\n",
      "--------------------------\n",
      "Processing Record Number: 1 | Hambantota\n",
      "http://api.openweathermap.org/data/2.5/weather?units=Imperial&APPID=a885ffcdacdd0e4029cda18c950070b7&q=hambantota\n",
      "Processing Record Number: 2 | Vaini\n",
      "http://api.openweathermap.org/data/2.5/weather?units=Imperial&APPID=a885ffcdacdd0e4029cda18c950070b7&q=vaini\n",
      "Processing Record Number: 3 | Te Anau\n",
      "http://api.openweathermap.org/data/2.5/weather?units=Imperial&APPID=a885ffcdacdd0e4029cda18c950070b7&q=te anau\n",
      "Processing Record Number: 4 | Ranong\n",
      "http://api.openweathermap.org/data/2.5/weather?units=Imperial&APPID=a885ffcdacdd0e4029cda18c950070b7&q=ranong\n",
      "Processing Record Number: 5 | Balkanabat\n",
      "http://api.openweathermap.org/data/2.5/weather?units=Imperial&APPID=a885ffcdacdd0e4029cda18c950070b7&q=balkanabat\n",
      "Processing Record Number: 6 | Muros\n",
      "http://api.openweathermap.org/data/2.5/weather?units=Imperial&APPID=a885ffcdacdd0e4029cda18c950070b7&q=muros\n",
      "Processing Record Number: 7 | Hithadhoo\n",
      "http://api.openweathermap.org/data/2.5/weather?units=Imperial&APPID=a885ffcdacdd0e4029cda18c950070b7&q=hithadhoo\n",
      "Processing Record Number: 8 | Hashimoto\n",
      "http://api.openweathermap.org/data/2.5/weather?units=Imperial&APPID=a885ffcdacdd0e4029cda18c950070b7&q=hashimoto\n",
      "Processing Record Number: 9 | Rikitea\n",
      "http://api.openweathermap.org/data/2.5/weather?units=Imperial&APPID=a885ffcdacdd0e4029cda18c950070b7&q=rikitea\n",
      "Processing Record Number: 10 | Gopālpur\n",
      "http://api.openweathermap.org/data/2.5/weather?units=Imperial&APPID=a885ffcdacdd0e4029cda18c950070b7&q=gopalpur\n",
      "Processing Record Number: 11 | Alakurtti\n",
      "http://api.openweathermap.org/data/2.5/weather?units=Imperial&APPID=a885ffcdacdd0e4029cda18c950070b7&q=alakurtti\n",
      "Processing Record Number: 12 | Tonj\n",
      "http://api.openweathermap.org/data/2.5/weather?units=Imperial&APPID=a885ffcdacdd0e4029cda18c950070b7&q=tonj\n",
      "Processing Record Number: 13 | Bredasdorp\n",
      "http://api.openweathermap.org/data/2.5/weather?units=Imperial&APPID=a885ffcdacdd0e4029cda18c950070b7&q=bredasdorp\n",
      "Processing Record Number: 14 | Kavaratti\n",
      "http://api.openweathermap.org/data/2.5/weather?units=Imperial&APPID=a885ffcdacdd0e4029cda18c950070b7&q=kavaratti\n",
      "Processing Record Number: 15 | Kulhudhuffushi\n",
      "http://api.openweathermap.org/data/2.5/weather?units=Imperial&APPID=a885ffcdacdd0e4029cda18c950070b7&q=kulhudhuffushi\n",
      "Processing Record Number: 16 | Hermanus\n",
      "http://api.openweathermap.org/data/2.5/weather?units=Imperial&APPID=a885ffcdacdd0e4029cda18c950070b7&q=hermanus\n",
      "City not found. Moving on to next call\n",
      "Processing Record Number: 17 | Atuona\n",
      "http://api.openweathermap.org/data/2.5/weather?units=Imperial&APPID=a885ffcdacdd0e4029cda18c950070b7&q=atuona\n",
      "City not found. Moving on to next call\n",
      "Processing Record Number: 18 | Kapaa\n",
      "http://api.openweathermap.org/data/2.5/weather?units=Imperial&APPID=a885ffcdacdd0e4029cda18c950070b7&q=kapaa\n",
      "Processing Record Number: 19 | Saint-Joseph\n",
      "http://api.openweathermap.org/data/2.5/weather?units=Imperial&APPID=a885ffcdacdd0e4029cda18c950070b7&q=saint-joseph\n",
      "Processing Record Number: 20 | Nuquí\n",
      "http://api.openweathermap.org/data/2.5/weather?units=Imperial&APPID=a885ffcdacdd0e4029cda18c950070b7&q=nuqui\n",
      "Processing Record Number: 21 | Cape Town\n",
      "http://api.openweathermap.org/data/2.5/weather?units=Imperial&APPID=a885ffcdacdd0e4029cda18c950070b7&q=cape town\n",
      "Processing Record Number: 22 | Hobart\n",
      "http://api.openweathermap.org/data/2.5/weather?units=Imperial&APPID=a885ffcdacdd0e4029cda18c950070b7&q=hobart\n",
      "Processing Record Number: 23 | Muravlenko\n",
      "http://api.openweathermap.org/data/2.5/weather?units=Imperial&APPID=a885ffcdacdd0e4029cda18c950070b7&q=muravlenko\n",
      "Processing Record Number: 24 | Kruisfontein\n",
      "http://api.openweathermap.org/data/2.5/weather?units=Imperial&APPID=a885ffcdacdd0e4029cda18c950070b7&q=kruisfontein\n",
      "City not found. Moving on to next call\n",
      "Processing Record Number: 25 | Chokurdakh\n",
      "http://api.openweathermap.org/data/2.5/weather?units=Imperial&APPID=a885ffcdacdd0e4029cda18c950070b7&q=chokurdakh\n",
      "Processing Record Number: 26 | Labuhan\n",
      "http://api.openweathermap.org/data/2.5/weather?units=Imperial&APPID=a885ffcdacdd0e4029cda18c950070b7&q=labuhan\n",
      "Processing Record Number: 27 | Lavrentiya\n",
      "http://api.openweathermap.org/data/2.5/weather?units=Imperial&APPID=a885ffcdacdd0e4029cda18c950070b7&q=lavrentiya\n",
      "Processing Record Number: 28 | Carnarvon\n",
      "http://api.openweathermap.org/data/2.5/weather?units=Imperial&APPID=a885ffcdacdd0e4029cda18c950070b7&q=carnarvon\n",
      "Processing Record Number: 29 | Port Alfred\n",
      "http://api.openweathermap.org/data/2.5/weather?units=Imperial&APPID=a885ffcdacdd0e4029cda18c950070b7&q=port alfred\n",
      "Processing Record Number: 30 | Mar del Plata\n",
      "http://api.openweathermap.org/data/2.5/weather?units=Imperial&APPID=a885ffcdacdd0e4029cda18c950070b7&q=mar del plata\n",
      "Processing Record Number: 31 | Vuktyl\n",
      "http://api.openweathermap.org/data/2.5/weather?units=Imperial&APPID=a885ffcdacdd0e4029cda18c950070b7&q=vuktyl\n",
      "Processing Record Number: 32 | Arraial do Cabo\n",
      "http://api.openweathermap.org/data/2.5/weather?units=Imperial&APPID=a885ffcdacdd0e4029cda18c950070b7&q=arraial do cabo\n",
      "Processing Record Number: 33 | Ushuaia\n",
      "http://api.openweathermap.org/data/2.5/weather?units=Imperial&APPID=a885ffcdacdd0e4029cda18c950070b7&q=ushuaia\n",
      "Processing Record Number: 34 | Upernavik\n",
      "http://api.openweathermap.org/data/2.5/weather?units=Imperial&APPID=a885ffcdacdd0e4029cda18c950070b7&q=upernavik\n",
      "Processing Record Number: 35 | Sangmélima\n",
      "http://api.openweathermap.org/data/2.5/weather?units=Imperial&APPID=a885ffcdacdd0e4029cda18c950070b7&q=sangmelima\n",
      "Processing Record Number: 36 | Bluff\n",
      "http://api.openweathermap.org/data/2.5/weather?units=Imperial&APPID=a885ffcdacdd0e4029cda18c950070b7&q=bluff\n",
      "Processing Record Number: 37 | Katsuura\n",
      "http://api.openweathermap.org/data/2.5/weather?units=Imperial&APPID=a885ffcdacdd0e4029cda18c950070b7&q=katsuura\n",
      "Processing Record Number: 38 | Moose Factory\n",
      "http://api.openweathermap.org/data/2.5/weather?units=Imperial&APPID=a885ffcdacdd0e4029cda18c950070b7&q=moose factory\n",
      "Processing Record Number: 39 | Mīrābād\n",
      "http://api.openweathermap.org/data/2.5/weather?units=Imperial&APPID=a885ffcdacdd0e4029cda18c950070b7&q=mirabad\n",
      "Processing Record Number: 40 | Saint-Philippe\n",
      "http://api.openweathermap.org/data/2.5/weather?units=Imperial&APPID=a885ffcdacdd0e4029cda18c950070b7&q=saint-philippe\n",
      "Processing Record Number: 41 | Bria\n",
      "http://api.openweathermap.org/data/2.5/weather?units=Imperial&APPID=a885ffcdacdd0e4029cda18c950070b7&q=bria\n",
      "City not found. Moving on to next call\n",
      "Processing Record Number: 42 | Kyra\n",
      "http://api.openweathermap.org/data/2.5/weather?units=Imperial&APPID=a885ffcdacdd0e4029cda18c950070b7&q=kyra\n",
      "Processing Record Number: 43 | Puerto Ayora\n",
      "http://api.openweathermap.org/data/2.5/weather?units=Imperial&APPID=a885ffcdacdd0e4029cda18c950070b7&q=puerto ayora\n",
      "Processing Record Number: 44 | Airai\n",
      "http://api.openweathermap.org/data/2.5/weather?units=Imperial&APPID=a885ffcdacdd0e4029cda18c950070b7&q=airai\n",
      "Processing Record Number: 45 | Albany\n",
      "http://api.openweathermap.org/data/2.5/weather?units=Imperial&APPID=a885ffcdacdd0e4029cda18c950070b7&q=albany\n",
      "Processing Record Number: 46 | Vryburg\n",
      "http://api.openweathermap.org/data/2.5/weather?units=Imperial&APPID=a885ffcdacdd0e4029cda18c950070b7&q=vryburg\n",
      "Processing Record Number: 47 | Punta Arenas\n",
      "http://api.openweathermap.org/data/2.5/weather?units=Imperial&APPID=a885ffcdacdd0e4029cda18c950070b7&q=punta arenas\n",
      "Processing Record Number: 48 | Iroquois Falls\n",
      "http://api.openweathermap.org/data/2.5/weather?units=Imperial&APPID=a885ffcdacdd0e4029cda18c950070b7&q=iroquois falls\n",
      "Processing Record Number: 49 | Dikson\n",
      "http://api.openweathermap.org/data/2.5/weather?units=Imperial&APPID=a885ffcdacdd0e4029cda18c950070b7&q=dikson\n",
      "Processing Record Number: 50 | Novaya Ladoga\n",
      "http://api.openweathermap.org/data/2.5/weather?units=Imperial&APPID=a885ffcdacdd0e4029cda18c950070b7&q=novaya ladoga\n",
      "Processing Record Number: 51 | Korla\n",
      "http://api.openweathermap.org/data/2.5/weather?units=Imperial&APPID=a885ffcdacdd0e4029cda18c950070b7&q=korla\n",
      "Processing Record Number: 52 | Ostrovnoy\n",
      "http://api.openweathermap.org/data/2.5/weather?units=Imperial&APPID=a885ffcdacdd0e4029cda18c950070b7&q=ostrovnoy\n",
      "Processing Record Number: 53 | Alofi\n",
      "http://api.openweathermap.org/data/2.5/weather?units=Imperial&APPID=a885ffcdacdd0e4029cda18c950070b7&q=alofi\n"
     ]
    },
    {
     "name": "stdout",
     "output_type": "stream",
     "text": [
      "City not found. Moving on to next call\n",
      "Processing Record Number: 54 | Padang\n",
      "http://api.openweathermap.org/data/2.5/weather?units=Imperial&APPID=a885ffcdacdd0e4029cda18c950070b7&q=padang\n",
      "Processing Record Number: 55 | Praia\n",
      "http://api.openweathermap.org/data/2.5/weather?units=Imperial&APPID=a885ffcdacdd0e4029cda18c950070b7&q=praia\n",
      "Processing Record Number: 56 | Natal\n",
      "http://api.openweathermap.org/data/2.5/weather?units=Imperial&APPID=a885ffcdacdd0e4029cda18c950070b7&q=natal\n",
      "Processing Record Number: 57 | Qaanaaq\n",
      "http://api.openweathermap.org/data/2.5/weather?units=Imperial&APPID=a885ffcdacdd0e4029cda18c950070b7&q=qaanaaq\n",
      "Processing Record Number: 58 | Peniche\n",
      "http://api.openweathermap.org/data/2.5/weather?units=Imperial&APPID=a885ffcdacdd0e4029cda18c950070b7&q=peniche\n",
      "Processing Record Number: 59 | Aykhal\n",
      "http://api.openweathermap.org/data/2.5/weather?units=Imperial&APPID=a885ffcdacdd0e4029cda18c950070b7&q=aykhal\n",
      "Processing Record Number: 60 | Port Hardy\n",
      "http://api.openweathermap.org/data/2.5/weather?units=Imperial&APPID=a885ffcdacdd0e4029cda18c950070b7&q=port hardy\n",
      "Processing Record Number: 61 | Geraldton\n",
      "http://api.openweathermap.org/data/2.5/weather?units=Imperial&APPID=a885ffcdacdd0e4029cda18c950070b7&q=geraldton\n",
      "Processing Record Number: 62 | Clyde River\n",
      "http://api.openweathermap.org/data/2.5/weather?units=Imperial&APPID=a885ffcdacdd0e4029cda18c950070b7&q=clyde river\n",
      "Processing Record Number: 63 | Busselton\n",
      "http://api.openweathermap.org/data/2.5/weather?units=Imperial&APPID=a885ffcdacdd0e4029cda18c950070b7&q=busselton\n",
      "City not found. Moving on to next call\n",
      "City not found. Moving on to next call\n",
      "Processing Record Number: 64 | Bereda\n",
      "http://api.openweathermap.org/data/2.5/weather?units=Imperial&APPID=a885ffcdacdd0e4029cda18c950070b7&q=bereda\n",
      "Processing Record Number: 65 | Saquena\n",
      "http://api.openweathermap.org/data/2.5/weather?units=Imperial&APPID=a885ffcdacdd0e4029cda18c950070b7&q=saquena\n",
      "Processing Record Number: 66 | Hasaki\n",
      "http://api.openweathermap.org/data/2.5/weather?units=Imperial&APPID=a885ffcdacdd0e4029cda18c950070b7&q=hasaki\n",
      "Processing Record Number: 67 | Mataura\n",
      "http://api.openweathermap.org/data/2.5/weather?units=Imperial&APPID=a885ffcdacdd0e4029cda18c950070b7&q=mataura\n",
      "Processing Record Number: 68 | Yellowknife\n",
      "http://api.openweathermap.org/data/2.5/weather?units=Imperial&APPID=a885ffcdacdd0e4029cda18c950070b7&q=yellowknife\n",
      "Processing Record Number: 69 | Fairbanks\n",
      "http://api.openweathermap.org/data/2.5/weather?units=Imperial&APPID=a885ffcdacdd0e4029cda18c950070b7&q=fairbanks\n",
      "Processing Record Number: 70 | Pochutla\n",
      "http://api.openweathermap.org/data/2.5/weather?units=Imperial&APPID=a885ffcdacdd0e4029cda18c950070b7&q=pochutla\n",
      "Processing Record Number: 71 | Thompson\n",
      "http://api.openweathermap.org/data/2.5/weather?units=Imperial&APPID=a885ffcdacdd0e4029cda18c950070b7&q=thompson\n",
      "Processing Record Number: 72 | Lebu\n",
      "http://api.openweathermap.org/data/2.5/weather?units=Imperial&APPID=a885ffcdacdd0e4029cda18c950070b7&q=lebu\n",
      "Processing Record Number: 73 | Saint George\n",
      "http://api.openweathermap.org/data/2.5/weather?units=Imperial&APPID=a885ffcdacdd0e4029cda18c950070b7&q=saint george\n",
      "Processing Record Number: 74 | Jamestown\n",
      "http://api.openweathermap.org/data/2.5/weather?units=Imperial&APPID=a885ffcdacdd0e4029cda18c950070b7&q=jamestown\n",
      "Processing Record Number: 75 | Souillac\n",
      "http://api.openweathermap.org/data/2.5/weather?units=Imperial&APPID=a885ffcdacdd0e4029cda18c950070b7&q=souillac\n",
      "Processing Record Number: 76 | Petrovsk-Zabaykal'skiy\n",
      "http://api.openweathermap.org/data/2.5/weather?units=Imperial&APPID=a885ffcdacdd0e4029cda18c950070b7&q=petrovsk-zabaykalskiy\n",
      "Processing Record Number: 77 | Bundaberg\n",
      "http://api.openweathermap.org/data/2.5/weather?units=Imperial&APPID=a885ffcdacdd0e4029cda18c950070b7&q=bundaberg\n",
      "Processing Record Number: 78 | Cabo San Lucas\n",
      "http://api.openweathermap.org/data/2.5/weather?units=Imperial&APPID=a885ffcdacdd0e4029cda18c950070b7&q=cabo san lucas\n",
      "Processing Record Number: 79 | Honningsvåg\n",
      "http://api.openweathermap.org/data/2.5/weather?units=Imperial&APPID=a885ffcdacdd0e4029cda18c950070b7&q=honningsvag\n",
      "Processing Record Number: 80 | Port Blair\n",
      "http://api.openweathermap.org/data/2.5/weather?units=Imperial&APPID=a885ffcdacdd0e4029cda18c950070b7&q=port blair\n",
      "Processing Record Number: 81 | Sulangan\n",
      "http://api.openweathermap.org/data/2.5/weather?units=Imperial&APPID=a885ffcdacdd0e4029cda18c950070b7&q=sulangan\n",
      "Processing Record Number: 82 | Avarua\n",
      "http://api.openweathermap.org/data/2.5/weather?units=Imperial&APPID=a885ffcdacdd0e4029cda18c950070b7&q=avarua\n",
      "Processing Record Number: 83 | Rock Springs\n",
      "http://api.openweathermap.org/data/2.5/weather?units=Imperial&APPID=a885ffcdacdd0e4029cda18c950070b7&q=rock springs\n",
      "Processing Record Number: 84 | Casa Grande\n",
      "http://api.openweathermap.org/data/2.5/weather?units=Imperial&APPID=a885ffcdacdd0e4029cda18c950070b7&q=casa grande\n",
      "Processing Record Number: 85 | Tasiilaq\n",
      "http://api.openweathermap.org/data/2.5/weather?units=Imperial&APPID=a885ffcdacdd0e4029cda18c950070b7&q=tasiilaq\n",
      "Processing Record Number: 86 | Mehamn\n",
      "http://api.openweathermap.org/data/2.5/weather?units=Imperial&APPID=a885ffcdacdd0e4029cda18c950070b7&q=mehamn\n",
      "Processing Record Number: 87 | Shache\n",
      "http://api.openweathermap.org/data/2.5/weather?units=Imperial&APPID=a885ffcdacdd0e4029cda18c950070b7&q=shache\n",
      "Processing Record Number: 88 | Saint Paul Harbor\n",
      "http://api.openweathermap.org/data/2.5/weather?units=Imperial&APPID=a885ffcdacdd0e4029cda18c950070b7&q=kodiak\n",
      "Processing Record Number: 89 | Twin Falls\n",
      "http://api.openweathermap.org/data/2.5/weather?units=Imperial&APPID=a885ffcdacdd0e4029cda18c950070b7&q=twin falls\n",
      "Processing Record Number: 90 | Marsh Harbour\n",
      "http://api.openweathermap.org/data/2.5/weather?units=Imperial&APPID=a885ffcdacdd0e4029cda18c950070b7&q=marsh harbour\n",
      "Processing Record Number: 91 | Vestmannaeyjar\n",
      "http://api.openweathermap.org/data/2.5/weather?units=Imperial&APPID=a885ffcdacdd0e4029cda18c950070b7&q=vestmannaeyjar\n",
      "Processing Record Number: 92 | Marquette\n",
      "http://api.openweathermap.org/data/2.5/weather?units=Imperial&APPID=a885ffcdacdd0e4029cda18c950070b7&q=marquette\n",
      "Processing Record Number: 93 | Mahébourg\n",
      "http://api.openweathermap.org/data/2.5/weather?units=Imperial&APPID=a885ffcdacdd0e4029cda18c950070b7&q=mahebourg\n",
      "Processing Record Number: 94 | Pātūr\n",
      "http://api.openweathermap.org/data/2.5/weather?units=Imperial&APPID=a885ffcdacdd0e4029cda18c950070b7&q=patur\n",
      "Processing Record Number: 95 | Hilo\n",
      "http://api.openweathermap.org/data/2.5/weather?units=Imperial&APPID=a885ffcdacdd0e4029cda18c950070b7&q=hilo\n",
      "Processing Record Number: 96 | Quesnel\n",
      "http://api.openweathermap.org/data/2.5/weather?units=Imperial&APPID=a885ffcdacdd0e4029cda18c950070b7&q=quesnel\n",
      "Processing Record Number: 97 | Salinópolis\n",
      "http://api.openweathermap.org/data/2.5/weather?units=Imperial&APPID=a885ffcdacdd0e4029cda18c950070b7&q=salinopolis\n",
      "Processing Record Number: 98 | Havelock\n",
      "http://api.openweathermap.org/data/2.5/weather?units=Imperial&APPID=a885ffcdacdd0e4029cda18c950070b7&q=havelock\n",
      "Processing Record Number: 99 | Hays\n",
      "http://api.openweathermap.org/data/2.5/weather?units=Imperial&APPID=a885ffcdacdd0e4029cda18c950070b7&q=hays\n",
      "City not found. Moving on to next call\n",
      "Processing Record Number: 100 | Saint Anthony\n",
      "http://api.openweathermap.org/data/2.5/weather?units=Imperial&APPID=a885ffcdacdd0e4029cda18c950070b7&q=saint anthony\n",
      "Processing Record Number: 101 | Arlit\n",
      "http://api.openweathermap.org/data/2.5/weather?units=Imperial&APPID=a885ffcdacdd0e4029cda18c950070b7&q=arlit\n",
      "Processing Record Number: 102 | Merauke\n",
      "http://api.openweathermap.org/data/2.5/weather?units=Imperial&APPID=a885ffcdacdd0e4029cda18c950070b7&q=merauke\n",
      "Processing Record Number: 103 | Saldanha\n",
      "http://api.openweathermap.org/data/2.5/weather?units=Imperial&APPID=a885ffcdacdd0e4029cda18c950070b7&q=saldanha\n",
      "Processing Record Number: 104 | Foumban\n",
      "http://api.openweathermap.org/data/2.5/weather?units=Imperial&APPID=a885ffcdacdd0e4029cda18c950070b7&q=foumban\n",
      "City not found. Moving on to next call\n",
      "Processing Record Number: 105 | Cristian\n",
      "http://api.openweathermap.org/data/2.5/weather?units=Imperial&APPID=a885ffcdacdd0e4029cda18c950070b7&q=cristian\n",
      "Processing Record Number: 106 | Hay River\n",
      "http://api.openweathermap.org/data/2.5/weather?units=Imperial&APPID=a885ffcdacdd0e4029cda18c950070b7&q=hay river\n"
     ]
    },
    {
     "name": "stdout",
     "output_type": "stream",
     "text": [
      "Processing Record Number: 107 | Slyudyanka\n",
      "http://api.openweathermap.org/data/2.5/weather?units=Imperial&APPID=a885ffcdacdd0e4029cda18c950070b7&q=slyudyanka\n",
      "Processing Record Number: 108 | Olafsvik\n",
      "http://api.openweathermap.org/data/2.5/weather?units=Imperial&APPID=a885ffcdacdd0e4029cda18c950070b7&q=olafsvik\n",
      "Processing Record Number: 109 | Tual\n",
      "http://api.openweathermap.org/data/2.5/weather?units=Imperial&APPID=a885ffcdacdd0e4029cda18c950070b7&q=tual\n",
      "Processing Record Number: 110 | Yangi Marg`ilon\n",
      "http://api.openweathermap.org/data/2.5/weather?units=Imperial&APPID=a885ffcdacdd0e4029cda18c950070b7&q=komsomolskiy\n",
      "Processing Record Number: 111 | Leningradskiy\n",
      "http://api.openweathermap.org/data/2.5/weather?units=Imperial&APPID=a885ffcdacdd0e4029cda18c950070b7&q=leningradskiy\n",
      "Processing Record Number: 112 | Yeppoon\n",
      "http://api.openweathermap.org/data/2.5/weather?units=Imperial&APPID=a885ffcdacdd0e4029cda18c950070b7&q=yeppoon\n",
      "Processing Record Number: 113 | Aklavik\n",
      "http://api.openweathermap.org/data/2.5/weather?units=Imperial&APPID=a885ffcdacdd0e4029cda18c950070b7&q=aklavik\n",
      "Processing Record Number: 114 | Graciano Sánchez\n",
      "http://api.openweathermap.org/data/2.5/weather?units=Imperial&APPID=a885ffcdacdd0e4029cda18c950070b7&q=graciano sanchez\n",
      "Processing Record Number: 115 | Cidreira\n",
      "http://api.openweathermap.org/data/2.5/weather?units=Imperial&APPID=a885ffcdacdd0e4029cda18c950070b7&q=cidreira\n",
      "Processing Record Number: 116 | Kerman\n",
      "http://api.openweathermap.org/data/2.5/weather?units=Imperial&APPID=a885ffcdacdd0e4029cda18c950070b7&q=kerman\n",
      "Processing Record Number: 117 | New Norfolk\n",
      "http://api.openweathermap.org/data/2.5/weather?units=Imperial&APPID=a885ffcdacdd0e4029cda18c950070b7&q=new norfolk\n",
      "Processing Record Number: 118 | São Filipe\n",
      "http://api.openweathermap.org/data/2.5/weather?units=Imperial&APPID=a885ffcdacdd0e4029cda18c950070b7&q=sao filipe\n",
      "Processing Record Number: 119 | Bow Island\n",
      "http://api.openweathermap.org/data/2.5/weather?units=Imperial&APPID=a885ffcdacdd0e4029cda18c950070b7&q=bow island\n",
      "Processing Record Number: 120 | Kushmurun\n",
      "http://api.openweathermap.org/data/2.5/weather?units=Imperial&APPID=a885ffcdacdd0e4029cda18c950070b7&q=kushmurun\n",
      "Processing Record Number: 121 | Nishifukuma\n",
      "http://api.openweathermap.org/data/2.5/weather?units=Imperial&APPID=a885ffcdacdd0e4029cda18c950070b7&q=fukuma\n",
      "Processing Record Number: 122 | Yonezawa\n",
      "http://api.openweathermap.org/data/2.5/weather?units=Imperial&APPID=a885ffcdacdd0e4029cda18c950070b7&q=yonezawa\n",
      "Processing Record Number: 123 | Hong Kong\n",
      "http://api.openweathermap.org/data/2.5/weather?units=Imperial&APPID=a885ffcdacdd0e4029cda18c950070b7&q=victoria\n",
      "City not found. Moving on to next call\n",
      "Processing Record Number: 124 | Coyhaique\n",
      "http://api.openweathermap.org/data/2.5/weather?units=Imperial&APPID=a885ffcdacdd0e4029cda18c950070b7&q=coihaique\n",
      "Processing Record Number: 125 | Klaksvík\n",
      "http://api.openweathermap.org/data/2.5/weather?units=Imperial&APPID=a885ffcdacdd0e4029cda18c950070b7&q=klaksvik\n",
      "City not found. Moving on to next call\n",
      "Processing Record Number: 126 | Mishan\n",
      "http://api.openweathermap.org/data/2.5/weather?units=Imperial&APPID=a885ffcdacdd0e4029cda18c950070b7&q=mishan\n",
      "Processing Record Number: 127 | San Cristobal\n",
      "http://api.openweathermap.org/data/2.5/weather?units=Imperial&APPID=a885ffcdacdd0e4029cda18c950070b7&q=san cristobal\n",
      "City not found. Moving on to next call\n",
      "Processing Record Number: 128 | Manta\n",
      "http://api.openweathermap.org/data/2.5/weather?units=Imperial&APPID=a885ffcdacdd0e4029cda18c950070b7&q=manta\n",
      "Processing Record Number: 129 | Ilulissat\n",
      "http://api.openweathermap.org/data/2.5/weather?units=Imperial&APPID=a885ffcdacdd0e4029cda18c950070b7&q=ilulissat\n",
      "Processing Record Number: 130 | Mirny\n",
      "http://api.openweathermap.org/data/2.5/weather?units=Imperial&APPID=a885ffcdacdd0e4029cda18c950070b7&q=mirnyy\n",
      "City not found. Moving on to next call\n",
      "Processing Record Number: 131 | Castro\n",
      "http://api.openweathermap.org/data/2.5/weather?units=Imperial&APPID=a885ffcdacdd0e4029cda18c950070b7&q=castro\n",
      "Processing Record Number: 132 | Deer Lake\n",
      "http://api.openweathermap.org/data/2.5/weather?units=Imperial&APPID=a885ffcdacdd0e4029cda18c950070b7&q=deer lake\n",
      "Processing Record Number: 133 | Hofn\n",
      "http://api.openweathermap.org/data/2.5/weather?units=Imperial&APPID=a885ffcdacdd0e4029cda18c950070b7&q=hofn\n",
      "Processing Record Number: 134 | Severo-Kuril'sk\n",
      "http://api.openweathermap.org/data/2.5/weather?units=Imperial&APPID=a885ffcdacdd0e4029cda18c950070b7&q=severo-kurilsk\n",
      "Processing Record Number: 135 | Kiryat Gat\n",
      "http://api.openweathermap.org/data/2.5/weather?units=Imperial&APPID=a885ffcdacdd0e4029cda18c950070b7&q=gat\n",
      "Processing Record Number: 136 | Cherskiy\n",
      "http://api.openweathermap.org/data/2.5/weather?units=Imperial&APPID=a885ffcdacdd0e4029cda18c950070b7&q=cherskiy\n",
      "City not found. Moving on to next call\n",
      "Processing Record Number: 137 | Raja\n",
      "http://api.openweathermap.org/data/2.5/weather?units=Imperial&APPID=a885ffcdacdd0e4029cda18c950070b7&q=raga\n",
      "Processing Record Number: 138 | Tuatapere\n",
      "http://api.openweathermap.org/data/2.5/weather?units=Imperial&APPID=a885ffcdacdd0e4029cda18c950070b7&q=tuatapere\n",
      "Processing Record Number: 139 | Harlingen\n",
      "http://api.openweathermap.org/data/2.5/weather?units=Imperial&APPID=a885ffcdacdd0e4029cda18c950070b7&q=harlingen\n",
      "City not found. Moving on to next call\n",
      "Processing Record Number: 140 | Evensk\n",
      "http://api.openweathermap.org/data/2.5/weather?units=Imperial&APPID=a885ffcdacdd0e4029cda18c950070b7&q=evensk\n",
      "Processing Record Number: 141 | Abay\n",
      "http://api.openweathermap.org/data/2.5/weather?units=Imperial&APPID=a885ffcdacdd0e4029cda18c950070b7&q=abay\n",
      "Processing Record Number: 142 | Altay\n",
      "http://api.openweathermap.org/data/2.5/weather?units=Imperial&APPID=a885ffcdacdd0e4029cda18c950070b7&q=altay\n",
      "Processing Record Number: 143 | Farīdpur\n",
      "http://api.openweathermap.org/data/2.5/weather?units=Imperial&APPID=a885ffcdacdd0e4029cda18c950070b7&q=faridpur\n",
      "Processing Record Number: 144 | Koregaon\n",
      "http://api.openweathermap.org/data/2.5/weather?units=Imperial&APPID=a885ffcdacdd0e4029cda18c950070b7&q=koregaon\n",
      "Processing Record Number: 145 | Nanortalik\n",
      "http://api.openweathermap.org/data/2.5/weather?units=Imperial&APPID=a885ffcdacdd0e4029cda18c950070b7&q=nanortalik\n",
      "Processing Record Number: 146 | Vélez\n",
      "http://api.openweathermap.org/data/2.5/weather?units=Imperial&APPID=a885ffcdacdd0e4029cda18c950070b7&q=velez\n",
      "Processing Record Number: 147 | Isangel\n",
      "http://api.openweathermap.org/data/2.5/weather?units=Imperial&APPID=a885ffcdacdd0e4029cda18c950070b7&q=isangel\n",
      "Processing Record Number: 148 | Barra Patuca\n",
      "http://api.openweathermap.org/data/2.5/weather?units=Imperial&APPID=a885ffcdacdd0e4029cda18c950070b7&q=barra patuca\n",
      "Processing Record Number: 149 | Jalu\n",
      "http://api.openweathermap.org/data/2.5/weather?units=Imperial&APPID=a885ffcdacdd0e4029cda18c950070b7&q=jalu\n",
      "Processing Record Number: 150 | Ribeira Grande\n",
      "http://api.openweathermap.org/data/2.5/weather?units=Imperial&APPID=a885ffcdacdd0e4029cda18c950070b7&q=ribeira grande\n",
      "Processing Record Number: 151 | Garissa\n",
      "http://api.openweathermap.org/data/2.5/weather?units=Imperial&APPID=a885ffcdacdd0e4029cda18c950070b7&q=garissa\n",
      "Processing Record Number: 152 | Kushiro\n",
      "http://api.openweathermap.org/data/2.5/weather?units=Imperial&APPID=a885ffcdacdd0e4029cda18c950070b7&q=kushiro\n",
      "City not found. Moving on to next call\n",
      "Processing Record Number: 153 | Tilichiki\n",
      "http://api.openweathermap.org/data/2.5/weather?units=Imperial&APPID=a885ffcdacdd0e4029cda18c950070b7&q=tilichiki\n",
      "Processing Record Number: 154 | Vardø\n",
      "http://api.openweathermap.org/data/2.5/weather?units=Imperial&APPID=a885ffcdacdd0e4029cda18c950070b7&q=vardo\n",
      "City not found. Moving on to next call\n",
      "Processing Record Number: 155 | Coronado\n",
      "http://api.openweathermap.org/data/2.5/weather?units=Imperial&APPID=a885ffcdacdd0e4029cda18c950070b7&q=coronado\n",
      "Processing Record Number: 156 | Kaitangata\n",
      "http://api.openweathermap.org/data/2.5/weather?units=Imperial&APPID=a885ffcdacdd0e4029cda18c950070b7&q=kaitangata\n",
      "Processing Record Number: 157 | Vila Franca do Campo\n",
      "http://api.openweathermap.org/data/2.5/weather?units=Imperial&APPID=a885ffcdacdd0e4029cda18c950070b7&q=vila franca do campo\n",
      "Processing Record Number: 158 | Svarstad\n",
      "http://api.openweathermap.org/data/2.5/weather?units=Imperial&APPID=a885ffcdacdd0e4029cda18c950070b7&q=svarstad\n"
     ]
    },
    {
     "name": "stdout",
     "output_type": "stream",
     "text": [
      "Processing Record Number: 159 | Kutum\n",
      "http://api.openweathermap.org/data/2.5/weather?units=Imperial&APPID=a885ffcdacdd0e4029cda18c950070b7&q=kutum\n",
      "City not found. Moving on to next call\n",
      "Processing Record Number: 160 | Waipawa\n",
      "http://api.openweathermap.org/data/2.5/weather?units=Imperial&APPID=a885ffcdacdd0e4029cda18c950070b7&q=waipawa\n",
      "Processing Record Number: 161 | Olenegorsk\n",
      "http://api.openweathermap.org/data/2.5/weather?units=Imperial&APPID=a885ffcdacdd0e4029cda18c950070b7&q=olenegorsk\n",
      "Processing Record Number: 162 | Barrow\n",
      "http://api.openweathermap.org/data/2.5/weather?units=Imperial&APPID=a885ffcdacdd0e4029cda18c950070b7&q=barrow\n",
      "Processing Record Number: 163 | Aracati\n",
      "http://api.openweathermap.org/data/2.5/weather?units=Imperial&APPID=a885ffcdacdd0e4029cda18c950070b7&q=aracati\n",
      "Processing Record Number: 164 | Vrangel'\n",
      "http://api.openweathermap.org/data/2.5/weather?units=Imperial&APPID=a885ffcdacdd0e4029cda18c950070b7&q=vrangel\n",
      "Processing Record Number: 165 | Flinders\n",
      "http://api.openweathermap.org/data/2.5/weather?units=Imperial&APPID=a885ffcdacdd0e4029cda18c950070b7&q=flinders\n",
      "Processing Record Number: 166 | Marzuq\n",
      "http://api.openweathermap.org/data/2.5/weather?units=Imperial&APPID=a885ffcdacdd0e4029cda18c950070b7&q=marzuq\n",
      "Processing Record Number: 167 | Fortuna\n",
      "http://api.openweathermap.org/data/2.5/weather?units=Imperial&APPID=a885ffcdacdd0e4029cda18c950070b7&q=fortuna\n",
      "City not found. Moving on to next call\n",
      "Processing Record Number: 168 | Mayor Pablo Lagerenza\n",
      "http://api.openweathermap.org/data/2.5/weather?units=Imperial&APPID=a885ffcdacdd0e4029cda18c950070b7&q=mayor pablo lagerenza\n",
      "Processing Record Number: 169 | Nueve de Julio\n",
      "http://api.openweathermap.org/data/2.5/weather?units=Imperial&APPID=a885ffcdacdd0e4029cda18c950070b7&q=nueve de julio\n",
      "Processing Record Number: 170 | Tshikapa\n",
      "http://api.openweathermap.org/data/2.5/weather?units=Imperial&APPID=a885ffcdacdd0e4029cda18c950070b7&q=tshikapa\n",
      "Processing Record Number: 171 | Cape Coast\n",
      "http://api.openweathermap.org/data/2.5/weather?units=Imperial&APPID=a885ffcdacdd0e4029cda18c950070b7&q=cape coast\n",
      "Processing Record Number: 172 | Stege\n",
      "http://api.openweathermap.org/data/2.5/weather?units=Imperial&APPID=a885ffcdacdd0e4029cda18c950070b7&q=stege\n",
      "Processing Record Number: 173 | Macapá\n",
      "http://api.openweathermap.org/data/2.5/weather?units=Imperial&APPID=a885ffcdacdd0e4029cda18c950070b7&q=macapa\n",
      "Processing Record Number: 174 | Dezful\n",
      "http://api.openweathermap.org/data/2.5/weather?units=Imperial&APPID=a885ffcdacdd0e4029cda18c950070b7&q=dezful\n",
      "Processing Record Number: 175 | Khovd\n",
      "http://api.openweathermap.org/data/2.5/weather?units=Imperial&APPID=a885ffcdacdd0e4029cda18c950070b7&q=hovd\n",
      "Processing Record Number: 176 | Parrita\n",
      "http://api.openweathermap.org/data/2.5/weather?units=Imperial&APPID=a885ffcdacdd0e4029cda18c950070b7&q=parrita\n",
      "City not found. Moving on to next call\n",
      "Processing Record Number: 177 | Talara\n",
      "http://api.openweathermap.org/data/2.5/weather?units=Imperial&APPID=a885ffcdacdd0e4029cda18c950070b7&q=talara\n",
      "Processing Record Number: 178 | Inhambane\n",
      "http://api.openweathermap.org/data/2.5/weather?units=Imperial&APPID=a885ffcdacdd0e4029cda18c950070b7&q=inhambane\n",
      "Processing Record Number: 179 | Kidal\n",
      "http://api.openweathermap.org/data/2.5/weather?units=Imperial&APPID=a885ffcdacdd0e4029cda18c950070b7&q=kidal\n",
      "Processing Record Number: 180 | Matamoros\n",
      "http://api.openweathermap.org/data/2.5/weather?units=Imperial&APPID=a885ffcdacdd0e4029cda18c950070b7&q=matamoros\n",
      "Processing Record Number: 181 | Mossamedes\n",
      "http://api.openweathermap.org/data/2.5/weather?units=Imperial&APPID=a885ffcdacdd0e4029cda18c950070b7&q=namibe\n",
      "Processing Record Number: 182 | Petropavlovsk-Kamchatskiy\n",
      "http://api.openweathermap.org/data/2.5/weather?units=Imperial&APPID=a885ffcdacdd0e4029cda18c950070b7&q=petropavlovsk-kamchatskiy\n",
      "Processing Record Number: 183 | Gwanda\n",
      "http://api.openweathermap.org/data/2.5/weather?units=Imperial&APPID=a885ffcdacdd0e4029cda18c950070b7&q=gwanda\n",
      "Processing Record Number: 184 | Den Helder\n",
      "http://api.openweathermap.org/data/2.5/weather?units=Imperial&APPID=a885ffcdacdd0e4029cda18c950070b7&q=den helder\n",
      "Processing Record Number: 185 | Ponta do Sol\n",
      "http://api.openweathermap.org/data/2.5/weather?units=Imperial&APPID=a885ffcdacdd0e4029cda18c950070b7&q=ponta do sol\n",
      "Processing Record Number: 186 | Beringovskiy\n",
      "http://api.openweathermap.org/data/2.5/weather?units=Imperial&APPID=a885ffcdacdd0e4029cda18c950070b7&q=beringovskiy\n",
      "Processing Record Number: 187 | Mandalgovi\n",
      "http://api.openweathermap.org/data/2.5/weather?units=Imperial&APPID=a885ffcdacdd0e4029cda18c950070b7&q=mandalgovi\n",
      "Processing Record Number: 188 | Khatanga\n",
      "http://api.openweathermap.org/data/2.5/weather?units=Imperial&APPID=a885ffcdacdd0e4029cda18c950070b7&q=khatanga\n",
      "Processing Record Number: 189 | Meulaboh\n",
      "http://api.openweathermap.org/data/2.5/weather?units=Imperial&APPID=a885ffcdacdd0e4029cda18c950070b7&q=meulaboh\n",
      "Processing Record Number: 190 | Maţāy\n",
      "http://api.openweathermap.org/data/2.5/weather?units=Imperial&APPID=a885ffcdacdd0e4029cda18c950070b7&q=matay\n",
      "Processing Record Number: 191 | Sabha\n",
      "http://api.openweathermap.org/data/2.5/weather?units=Imperial&APPID=a885ffcdacdd0e4029cda18c950070b7&q=sabha\n",
      "Processing Record Number: 192 | Noyabrsk\n",
      "http://api.openweathermap.org/data/2.5/weather?units=Imperial&APPID=a885ffcdacdd0e4029cda18c950070b7&q=noyabrsk\n",
      "Processing Record Number: 193 | Sol'tsy\n",
      "http://api.openweathermap.org/data/2.5/weather?units=Imperial&APPID=a885ffcdacdd0e4029cda18c950070b7&q=soltsy\n",
      "Processing Record Number: 194 | Faanui\n",
      "http://api.openweathermap.org/data/2.5/weather?units=Imperial&APPID=a885ffcdacdd0e4029cda18c950070b7&q=faanui\n",
      "Processing Record Number: 195 | Cananéia\n",
      "http://api.openweathermap.org/data/2.5/weather?units=Imperial&APPID=a885ffcdacdd0e4029cda18c950070b7&q=cananeia\n",
      "Processing Record Number: 196 | Chiredzi\n",
      "http://api.openweathermap.org/data/2.5/weather?units=Imperial&APPID=a885ffcdacdd0e4029cda18c950070b7&q=chiredzi\n",
      "Processing Record Number: 197 | Geghamavan\n",
      "http://api.openweathermap.org/data/2.5/weather?units=Imperial&APPID=a885ffcdacdd0e4029cda18c950070b7&q=geghamavan\n",
      "Processing Record Number: 198 | Dobson\n",
      "http://api.openweathermap.org/data/2.5/weather?units=Imperial&APPID=a885ffcdacdd0e4029cda18c950070b7&q=dobson\n",
      "Processing Record Number: 199 | Provideniya\n",
      "http://api.openweathermap.org/data/2.5/weather?units=Imperial&APPID=a885ffcdacdd0e4029cda18c950070b7&q=provideniya\n",
      "Processing Record Number: 200 | Bambanglipuro\n",
      "http://api.openweathermap.org/data/2.5/weather?units=Imperial&APPID=a885ffcdacdd0e4029cda18c950070b7&q=bambanglipuro\n",
      "Processing Record Number: 201 | Vicksburg\n",
      "http://api.openweathermap.org/data/2.5/weather?units=Imperial&APPID=a885ffcdacdd0e4029cda18c950070b7&q=vicksburg\n",
      "Processing Record Number: 202 | Olonets\n",
      "http://api.openweathermap.org/data/2.5/weather?units=Imperial&APPID=a885ffcdacdd0e4029cda18c950070b7&q=olonets\n",
      "Processing Record Number: 203 | Port Hedland\n",
      "http://api.openweathermap.org/data/2.5/weather?units=Imperial&APPID=a885ffcdacdd0e4029cda18c950070b7&q=port hedland\n",
      "Processing Record Number: 204 | Mabaruma\n",
      "http://api.openweathermap.org/data/2.5/weather?units=Imperial&APPID=a885ffcdacdd0e4029cda18c950070b7&q=mabaruma\n",
      "Processing Record Number: 205 | Kachug\n",
      "http://api.openweathermap.org/data/2.5/weather?units=Imperial&APPID=a885ffcdacdd0e4029cda18c950070b7&q=kachug\n",
      "Processing Record Number: 206 | Chui\n",
      "http://api.openweathermap.org/data/2.5/weather?units=Imperial&APPID=a885ffcdacdd0e4029cda18c950070b7&q=chuy\n",
      "Processing Record Number: 207 | Solec Kujawski\n",
      "http://api.openweathermap.org/data/2.5/weather?units=Imperial&APPID=a885ffcdacdd0e4029cda18c950070b7&q=solec kujawski\n",
      "Processing Record Number: 208 | Pacific Grove\n",
      "http://api.openweathermap.org/data/2.5/weather?units=Imperial&APPID=a885ffcdacdd0e4029cda18c950070b7&q=pacific grove\n",
      "Processing Record Number: 209 | Praia da Vitória\n",
      "http://api.openweathermap.org/data/2.5/weather?units=Imperial&APPID=a885ffcdacdd0e4029cda18c950070b7&q=praia da vitoria\n",
      "Processing Record Number: 210 | Miles City\n",
      "http://api.openweathermap.org/data/2.5/weather?units=Imperial&APPID=a885ffcdacdd0e4029cda18c950070b7&q=miles city\n",
      "Processing Record Number: 211 | Smithers\n",
      "http://api.openweathermap.org/data/2.5/weather?units=Imperial&APPID=a885ffcdacdd0e4029cda18c950070b7&q=smithers\n"
     ]
    },
    {
     "name": "stdout",
     "output_type": "stream",
     "text": [
      "Processing Record Number: 212 | Pevek\n",
      "http://api.openweathermap.org/data/2.5/weather?units=Imperial&APPID=a885ffcdacdd0e4029cda18c950070b7&q=pevek\n",
      "Processing Record Number: 213 | Nautla\n",
      "http://api.openweathermap.org/data/2.5/weather?units=Imperial&APPID=a885ffcdacdd0e4029cda18c950070b7&q=nautla\n",
      "Processing Record Number: 214 | Monte Alegre\n",
      "http://api.openweathermap.org/data/2.5/weather?units=Imperial&APPID=a885ffcdacdd0e4029cda18c950070b7&q=monte alegre\n",
      "Processing Record Number: 215 | Maxixe\n",
      "http://api.openweathermap.org/data/2.5/weather?units=Imperial&APPID=a885ffcdacdd0e4029cda18c950070b7&q=maxixe\n",
      "Processing Record Number: 216 | Oktyabr'skoye\n",
      "http://api.openweathermap.org/data/2.5/weather?units=Imperial&APPID=a885ffcdacdd0e4029cda18c950070b7&q=oktyabrskoye\n",
      "Processing Record Number: 217 | Husavik\n",
      "http://api.openweathermap.org/data/2.5/weather?units=Imperial&APPID=a885ffcdacdd0e4029cda18c950070b7&q=husavik\n",
      "Processing Record Number: 218 | Buraidah\n",
      "http://api.openweathermap.org/data/2.5/weather?units=Imperial&APPID=a885ffcdacdd0e4029cda18c950070b7&q=buraydah\n",
      "Processing Record Number: 219 | Butaritari\n",
      "http://api.openweathermap.org/data/2.5/weather?units=Imperial&APPID=a885ffcdacdd0e4029cda18c950070b7&q=butaritari\n",
      "Processing Record Number: 220 | Saskylakh\n",
      "http://api.openweathermap.org/data/2.5/weather?units=Imperial&APPID=a885ffcdacdd0e4029cda18c950070b7&q=saskylakh\n",
      "Processing Record Number: 221 | Nome\n",
      "http://api.openweathermap.org/data/2.5/weather?units=Imperial&APPID=a885ffcdacdd0e4029cda18c950070b7&q=nome\n",
      "Processing Record Number: 222 | Wuwei\n",
      "http://api.openweathermap.org/data/2.5/weather?units=Imperial&APPID=a885ffcdacdd0e4029cda18c950070b7&q=wuwei\n",
      "Processing Record Number: 223 | Rio Grande\n",
      "http://api.openweathermap.org/data/2.5/weather?units=Imperial&APPID=a885ffcdacdd0e4029cda18c950070b7&q=rio grande\n",
      "Processing Record Number: 224 | North Battleford\n",
      "http://api.openweathermap.org/data/2.5/weather?units=Imperial&APPID=a885ffcdacdd0e4029cda18c950070b7&q=north battleford\n",
      "Processing Record Number: 225 | Haicheng\n",
      "http://api.openweathermap.org/data/2.5/weather?units=Imperial&APPID=a885ffcdacdd0e4029cda18c950070b7&q=haicheng\n",
      "Processing Record Number: 226 | Bulgan\n",
      "http://api.openweathermap.org/data/2.5/weather?units=Imperial&APPID=a885ffcdacdd0e4029cda18c950070b7&q=bulgan\n",
      "Processing Record Number: 227 | Gamboula\n",
      "http://api.openweathermap.org/data/2.5/weather?units=Imperial&APPID=a885ffcdacdd0e4029cda18c950070b7&q=gamboula\n",
      "Processing Record Number: 228 | Rapid City\n",
      "http://api.openweathermap.org/data/2.5/weather?units=Imperial&APPID=a885ffcdacdd0e4029cda18c950070b7&q=rapid city\n",
      "Processing Record Number: 229 | Kedrovyy\n",
      "http://api.openweathermap.org/data/2.5/weather?units=Imperial&APPID=a885ffcdacdd0e4029cda18c950070b7&q=kedrovyy\n",
      "Processing Record Number: 230 | Belyy Yar\n",
      "http://api.openweathermap.org/data/2.5/weather?units=Imperial&APPID=a885ffcdacdd0e4029cda18c950070b7&q=belyy yar\n",
      "Processing Record Number: 231 | Tuktoyaktuk\n",
      "http://api.openweathermap.org/data/2.5/weather?units=Imperial&APPID=a885ffcdacdd0e4029cda18c950070b7&q=tuktoyaktuk\n",
      "Processing Record Number: 232 | Terrace\n",
      "http://api.openweathermap.org/data/2.5/weather?units=Imperial&APPID=a885ffcdacdd0e4029cda18c950070b7&q=terrace\n",
      "City not found. Moving on to next call\n",
      "Processing Record Number: 233 | Zyryanka\n",
      "http://api.openweathermap.org/data/2.5/weather?units=Imperial&APPID=a885ffcdacdd0e4029cda18c950070b7&q=zyryanka\n",
      "Processing Record Number: 234 | Huallanca\n",
      "http://api.openweathermap.org/data/2.5/weather?units=Imperial&APPID=a885ffcdacdd0e4029cda18c950070b7&q=huallanca\n",
      "Processing Record Number: 235 | Kupang\n",
      "http://api.openweathermap.org/data/2.5/weather?units=Imperial&APPID=a885ffcdacdd0e4029cda18c950070b7&q=kupang\n",
      "Processing Record Number: 236 | Marawi\n",
      "http://api.openweathermap.org/data/2.5/weather?units=Imperial&APPID=a885ffcdacdd0e4029cda18c950070b7&q=marawi\n",
      "Processing Record Number: 237 | Quatre Cocos\n",
      "http://api.openweathermap.org/data/2.5/weather?units=Imperial&APPID=a885ffcdacdd0e4029cda18c950070b7&q=quatre cocos\n",
      "Processing Record Number: 238 | Sandakan\n",
      "http://api.openweathermap.org/data/2.5/weather?units=Imperial&APPID=a885ffcdacdd0e4029cda18c950070b7&q=sandakan\n",
      "Processing Record Number: 239 | Vostok\n",
      "http://api.openweathermap.org/data/2.5/weather?units=Imperial&APPID=a885ffcdacdd0e4029cda18c950070b7&q=vostok\n",
      "Processing Record Number: 240 | Tautira\n",
      "http://api.openweathermap.org/data/2.5/weather?units=Imperial&APPID=a885ffcdacdd0e4029cda18c950070b7&q=tautira\n",
      "Processing Record Number: 241 | Iqaluit\n",
      "http://api.openweathermap.org/data/2.5/weather?units=Imperial&APPID=a885ffcdacdd0e4029cda18c950070b7&q=iqaluit\n",
      "Processing Record Number: 242 | Biak\n",
      "http://api.openweathermap.org/data/2.5/weather?units=Imperial&APPID=a885ffcdacdd0e4029cda18c950070b7&q=biak\n",
      "Processing Record Number: 243 | Bayir\n",
      "http://api.openweathermap.org/data/2.5/weather?units=Imperial&APPID=a885ffcdacdd0e4029cda18c950070b7&q=bayir\n",
      "Processing Record Number: 244 | East London\n",
      "http://api.openweathermap.org/data/2.5/weather?units=Imperial&APPID=a885ffcdacdd0e4029cda18c950070b7&q=east london\n",
      "Processing Record Number: 245 | Saint-Pierre\n",
      "http://api.openweathermap.org/data/2.5/weather?units=Imperial&APPID=a885ffcdacdd0e4029cda18c950070b7&q=saint-pierre\n",
      "Processing Record Number: 246 | Alice Springs\n",
      "http://api.openweathermap.org/data/2.5/weather?units=Imperial&APPID=a885ffcdacdd0e4029cda18c950070b7&q=alice springs\n",
      "City not found. Moving on to next call\n",
      "Processing Record Number: 247 | Marabu\n",
      "http://api.openweathermap.org/data/2.5/weather?units=Imperial&APPID=a885ffcdacdd0e4029cda18c950070b7&q=miri\n",
      "City not found. Moving on to next call\n",
      "Processing Record Number: 248 | Palmerston\n",
      "http://api.openweathermap.org/data/2.5/weather?units=Imperial&APPID=a885ffcdacdd0e4029cda18c950070b7&q=palmerston\n",
      "Processing Record Number: 249 | Caravelas\n",
      "http://api.openweathermap.org/data/2.5/weather?units=Imperial&APPID=a885ffcdacdd0e4029cda18c950070b7&q=caravelas\n",
      "Processing Record Number: 250 | Melfi\n",
      "http://api.openweathermap.org/data/2.5/weather?units=Imperial&APPID=a885ffcdacdd0e4029cda18c950070b7&q=melfi\n",
      "Processing Record Number: 251 | Vanimo\n",
      "http://api.openweathermap.org/data/2.5/weather?units=Imperial&APPID=a885ffcdacdd0e4029cda18c950070b7&q=vanimo\n",
      "Processing Record Number: 252 | Taltal\n",
      "http://api.openweathermap.org/data/2.5/weather?units=Imperial&APPID=a885ffcdacdd0e4029cda18c950070b7&q=taltal\n",
      "City not found. Moving on to next call\n",
      "Processing Record Number: 253 | Lüderitz\n",
      "http://api.openweathermap.org/data/2.5/weather?units=Imperial&APPID=a885ffcdacdd0e4029cda18c950070b7&q=luderitz\n",
      "Processing Record Number: 254 | Bengkulu\n",
      "http://api.openweathermap.org/data/2.5/weather?units=Imperial&APPID=a885ffcdacdd0e4029cda18c950070b7&q=bengkulu\n",
      "Processing Record Number: 255 | Kaeo\n",
      "http://api.openweathermap.org/data/2.5/weather?units=Imperial&APPID=a885ffcdacdd0e4029cda18c950070b7&q=kaeo\n",
      "Processing Record Number: 256 | Phan Thiet\n",
      "http://api.openweathermap.org/data/2.5/weather?units=Imperial&APPID=a885ffcdacdd0e4029cda18c950070b7&q=phan thiet\n",
      "Processing Record Number: 257 | Petatlán\n",
      "http://api.openweathermap.org/data/2.5/weather?units=Imperial&APPID=a885ffcdacdd0e4029cda18c950070b7&q=petatlan\n",
      "Processing Record Number: 258 | Bubaque\n",
      "http://api.openweathermap.org/data/2.5/weather?units=Imperial&APPID=a885ffcdacdd0e4029cda18c950070b7&q=bubaque\n",
      "Processing Record Number: 259 | Sobolevo\n",
      "http://api.openweathermap.org/data/2.5/weather?units=Imperial&APPID=a885ffcdacdd0e4029cda18c950070b7&q=sobolevo\n",
      "Processing Record Number: 260 | Panama\n",
      "http://api.openweathermap.org/data/2.5/weather?units=Imperial&APPID=a885ffcdacdd0e4029cda18c950070b7&q=panama\n",
      "Processing Record Number: 261 | Ust-Nera\n",
      "http://api.openweathermap.org/data/2.5/weather?units=Imperial&APPID=a885ffcdacdd0e4029cda18c950070b7&q=ust-nera\n",
      "Processing Record Number: 262 | Kota Belud\n",
      "http://api.openweathermap.org/data/2.5/weather?units=Imperial&APPID=a885ffcdacdd0e4029cda18c950070b7&q=kota belud\n",
      "Processing Record Number: 263 | Noril'sk\n",
      "http://api.openweathermap.org/data/2.5/weather?units=Imperial&APPID=a885ffcdacdd0e4029cda18c950070b7&q=norilsk\n",
      "Processing Record Number: 264 | Ponta Delgada\n",
      "http://api.openweathermap.org/data/2.5/weather?units=Imperial&APPID=a885ffcdacdd0e4029cda18c950070b7&q=ponta delgada\n"
     ]
    },
    {
     "name": "stdout",
     "output_type": "stream",
     "text": [
      "Processing Record Number: 265 | Buala\n",
      "http://api.openweathermap.org/data/2.5/weather?units=Imperial&APPID=a885ffcdacdd0e4029cda18c950070b7&q=buala\n",
      "Processing Record Number: 266 | Severnyy-Kospashskiy\n",
      "http://api.openweathermap.org/data/2.5/weather?units=Imperial&APPID=a885ffcdacdd0e4029cda18c950070b7&q=severnyy-kospashskiy\n",
      "Processing Record Number: 267 | Norman Wells\n",
      "http://api.openweathermap.org/data/2.5/weather?units=Imperial&APPID=a885ffcdacdd0e4029cda18c950070b7&q=norman wells\n",
      "Processing Record Number: 268 | Mandera\n",
      "http://api.openweathermap.org/data/2.5/weather?units=Imperial&APPID=a885ffcdacdd0e4029cda18c950070b7&q=mandera\n",
      "Processing Record Number: 269 | Merrill\n",
      "http://api.openweathermap.org/data/2.5/weather?units=Imperial&APPID=a885ffcdacdd0e4029cda18c950070b7&q=merrill\n",
      "Processing Record Number: 270 | Constitución\n",
      "http://api.openweathermap.org/data/2.5/weather?units=Imperial&APPID=a885ffcdacdd0e4029cda18c950070b7&q=constitucion\n",
      "Processing Record Number: 271 | Bloomington\n",
      "http://api.openweathermap.org/data/2.5/weather?units=Imperial&APPID=a885ffcdacdd0e4029cda18c950070b7&q=bloomington\n",
      "Processing Record Number: 272 | Bariloche\n",
      "http://api.openweathermap.org/data/2.5/weather?units=Imperial&APPID=a885ffcdacdd0e4029cda18c950070b7&q=san carlos de bariloche\n",
      "Processing Record Number: 273 | Yarovoy\n",
      "http://api.openweathermap.org/data/2.5/weather?units=Imperial&APPID=a885ffcdacdd0e4029cda18c950070b7&q=yarovoye\n",
      "Processing Record Number: 274 | Kavieng\n",
      "http://api.openweathermap.org/data/2.5/weather?units=Imperial&APPID=a885ffcdacdd0e4029cda18c950070b7&q=kavieng\n",
      "Processing Record Number: 275 | Esperance\n",
      "http://api.openweathermap.org/data/2.5/weather?units=Imperial&APPID=a885ffcdacdd0e4029cda18c950070b7&q=esperance\n",
      "Processing Record Number: 276 | Garoowe\n",
      "http://api.openweathermap.org/data/2.5/weather?units=Imperial&APPID=a885ffcdacdd0e4029cda18c950070b7&q=garowe\n",
      "Processing Record Number: 277 | Yar-Sale\n",
      "http://api.openweathermap.org/data/2.5/weather?units=Imperial&APPID=a885ffcdacdd0e4029cda18c950070b7&q=yar-sale\n",
      "Processing Record Number: 278 | Madera\n",
      "http://api.openweathermap.org/data/2.5/weather?units=Imperial&APPID=a885ffcdacdd0e4029cda18c950070b7&q=madera\n",
      "Processing Record Number: 279 | Cabedelo\n",
      "http://api.openweathermap.org/data/2.5/weather?units=Imperial&APPID=a885ffcdacdd0e4029cda18c950070b7&q=cabedelo\n",
      "Processing Record Number: 280 | Skawina\n",
      "http://api.openweathermap.org/data/2.5/weather?units=Imperial&APPID=a885ffcdacdd0e4029cda18c950070b7&q=skawina\n",
      "Processing Record Number: 281 | Bilibino\n",
      "http://api.openweathermap.org/data/2.5/weather?units=Imperial&APPID=a885ffcdacdd0e4029cda18c950070b7&q=bilibino\n",
      "Processing Record Number: 282 | Longyearbyen\n",
      "http://api.openweathermap.org/data/2.5/weather?units=Imperial&APPID=a885ffcdacdd0e4029cda18c950070b7&q=longyearbyen\n",
      "Processing Record Number: 283 | Arua\n",
      "http://api.openweathermap.org/data/2.5/weather?units=Imperial&APPID=a885ffcdacdd0e4029cda18c950070b7&q=arua\n",
      "Processing Record Number: 284 | Moyale\n",
      "http://api.openweathermap.org/data/2.5/weather?units=Imperial&APPID=a885ffcdacdd0e4029cda18c950070b7&q=moyale\n",
      "Processing Record Number: 285 | Mocuba\n",
      "http://api.openweathermap.org/data/2.5/weather?units=Imperial&APPID=a885ffcdacdd0e4029cda18c950070b7&q=mocuba\n",
      "Processing Record Number: 286 | Naze\n",
      "http://api.openweathermap.org/data/2.5/weather?units=Imperial&APPID=a885ffcdacdd0e4029cda18c950070b7&q=naze\n",
      "City not found. Moving on to next call\n",
      "Processing Record Number: 287 | Grand Gaube\n",
      "http://api.openweathermap.org/data/2.5/weather?units=Imperial&APPID=a885ffcdacdd0e4029cda18c950070b7&q=grand gaube\n",
      "Processing Record Number: 288 | Assiut\n",
      "http://api.openweathermap.org/data/2.5/weather?units=Imperial&APPID=a885ffcdacdd0e4029cda18c950070b7&q=asyut\n",
      "City not found. Moving on to next call\n",
      "Processing Record Number: 289 | Codrington\n",
      "http://api.openweathermap.org/data/2.5/weather?units=Imperial&APPID=a885ffcdacdd0e4029cda18c950070b7&q=codrington\n",
      "Processing Record Number: 290 | Sarangani\n",
      "http://api.openweathermap.org/data/2.5/weather?units=Imperial&APPID=a885ffcdacdd0e4029cda18c950070b7&q=sarangani\n",
      "Processing Record Number: 291 | Xuanzhou\n",
      "http://api.openweathermap.org/data/2.5/weather?units=Imperial&APPID=a885ffcdacdd0e4029cda18c950070b7&q=xuanzhou\n",
      "Processing Record Number: 292 | Ukiah\n",
      "http://api.openweathermap.org/data/2.5/weather?units=Imperial&APPID=a885ffcdacdd0e4029cda18c950070b7&q=ukiah\n",
      "Processing Record Number: 293 | Bathsheba\n",
      "http://api.openweathermap.org/data/2.5/weather?units=Imperial&APPID=a885ffcdacdd0e4029cda18c950070b7&q=bathsheba\n",
      "Processing Record Number: 294 | Saint-Paul\n",
      "http://api.openweathermap.org/data/2.5/weather?units=Imperial&APPID=a885ffcdacdd0e4029cda18c950070b7&q=saint-paul\n",
      "Processing Record Number: 295 | Port Lincoln\n",
      "http://api.openweathermap.org/data/2.5/weather?units=Imperial&APPID=a885ffcdacdd0e4029cda18c950070b7&q=port lincoln\n",
      "Processing Record Number: 296 | Chapais\n",
      "http://api.openweathermap.org/data/2.5/weather?units=Imperial&APPID=a885ffcdacdd0e4029cda18c950070b7&q=chapais\n",
      "Processing Record Number: 297 | Ballinasloe\n",
      "http://api.openweathermap.org/data/2.5/weather?units=Imperial&APPID=a885ffcdacdd0e4029cda18c950070b7&q=ballinasloe\n",
      "Processing Record Number: 298 | Karatau\n",
      "http://api.openweathermap.org/data/2.5/weather?units=Imperial&APPID=a885ffcdacdd0e4029cda18c950070b7&q=karatau\n",
      "City not found. Moving on to next call\n",
      "Processing Record Number: 299 | Pāthardi\n",
      "http://api.openweathermap.org/data/2.5/weather?units=Imperial&APPID=a885ffcdacdd0e4029cda18c950070b7&q=pathardi\n",
      "Processing Record Number: 300 | Bhūm\n",
      "http://api.openweathermap.org/data/2.5/weather?units=Imperial&APPID=a885ffcdacdd0e4029cda18c950070b7&q=bhum\n",
      "Processing Record Number: 301 | Dauriya\n",
      "http://api.openweathermap.org/data/2.5/weather?units=Imperial&APPID=a885ffcdacdd0e4029cda18c950070b7&q=dauriya\n",
      "Processing Record Number: 302 | Samarai\n",
      "http://api.openweathermap.org/data/2.5/weather?units=Imperial&APPID=a885ffcdacdd0e4029cda18c950070b7&q=samarai\n",
      "Processing Record Number: 303 | Senador José Porfírio\n",
      "http://api.openweathermap.org/data/2.5/weather?units=Imperial&APPID=a885ffcdacdd0e4029cda18c950070b7&q=senador jose porfirio\n",
      "Processing Record Number: 304 | Sabla\n",
      "http://api.openweathermap.org/data/2.5/weather?units=Imperial&APPID=a885ffcdacdd0e4029cda18c950070b7&q=sabla\n",
      "Processing Record Number: 305 | Henties Bay\n",
      "http://api.openweathermap.org/data/2.5/weather?units=Imperial&APPID=a885ffcdacdd0e4029cda18c950070b7&q=henties bay\n",
      "Processing Record Number: 306 | Anloga\n",
      "http://api.openweathermap.org/data/2.5/weather?units=Imperial&APPID=a885ffcdacdd0e4029cda18c950070b7&q=anloga\n",
      "Processing Record Number: 307 | Mikkeli\n",
      "http://api.openweathermap.org/data/2.5/weather?units=Imperial&APPID=a885ffcdacdd0e4029cda18c950070b7&q=mikkeli\n",
      "Processing Record Number: 308 | Viedma\n",
      "http://api.openweathermap.org/data/2.5/weather?units=Imperial&APPID=a885ffcdacdd0e4029cda18c950070b7&q=viedma\n",
      "Processing Record Number: 309 | Tarauacá\n",
      "http://api.openweathermap.org/data/2.5/weather?units=Imperial&APPID=a885ffcdacdd0e4029cda18c950070b7&q=tarauaca\n",
      "Processing Record Number: 310 | Robertsport\n",
      "http://api.openweathermap.org/data/2.5/weather?units=Imperial&APPID=a885ffcdacdd0e4029cda18c950070b7&q=robertsport\n",
      "Processing Record Number: 311 | Dukat\n",
      "http://api.openweathermap.org/data/2.5/weather?units=Imperial&APPID=a885ffcdacdd0e4029cda18c950070b7&q=dukat\n",
      "Processing Record Number: 312 | Haljala\n",
      "http://api.openweathermap.org/data/2.5/weather?units=Imperial&APPID=a885ffcdacdd0e4029cda18c950070b7&q=haljala\n",
      "Processing Record Number: 313 | Maragogi\n",
      "http://api.openweathermap.org/data/2.5/weather?units=Imperial&APPID=a885ffcdacdd0e4029cda18c950070b7&q=maragogi\n",
      "Processing Record Number: 314 | Bandarbeyla\n",
      "http://api.openweathermap.org/data/2.5/weather?units=Imperial&APPID=a885ffcdacdd0e4029cda18c950070b7&q=bandarbeyla\n",
      "Processing Record Number: 315 | Gaza\n",
      "http://api.openweathermap.org/data/2.5/weather?units=Imperial&APPID=a885ffcdacdd0e4029cda18c950070b7&q=gasa\n",
      "Processing Record Number: 316 | Kumul\n",
      "http://api.openweathermap.org/data/2.5/weather?units=Imperial&APPID=a885ffcdacdd0e4029cda18c950070b7&q=hami\n",
      "Processing Record Number: 317 | Popondetta\n",
      "http://api.openweathermap.org/data/2.5/weather?units=Imperial&APPID=a885ffcdacdd0e4029cda18c950070b7&q=popondetta\n"
     ]
    },
    {
     "name": "stdout",
     "output_type": "stream",
     "text": [
      "Processing Record Number: 318 | Touros\n",
      "http://api.openweathermap.org/data/2.5/weather?units=Imperial&APPID=a885ffcdacdd0e4029cda18c950070b7&q=touros\n",
      "Processing Record Number: 319 | Aswān\n",
      "http://api.openweathermap.org/data/2.5/weather?units=Imperial&APPID=a885ffcdacdd0e4029cda18c950070b7&q=aswan\n",
      "Processing Record Number: 320 | Sitka\n",
      "http://api.openweathermap.org/data/2.5/weather?units=Imperial&APPID=a885ffcdacdd0e4029cda18c950070b7&q=sitka\n",
      "Processing Record Number: 321 | San Jerónimo\n",
      "http://api.openweathermap.org/data/2.5/weather?units=Imperial&APPID=a885ffcdacdd0e4029cda18c950070b7&q=san jeronimo\n",
      "City not found. Moving on to next call\n",
      "Processing Record Number: 322 | Huambo\n",
      "http://api.openweathermap.org/data/2.5/weather?units=Imperial&APPID=a885ffcdacdd0e4029cda18c950070b7&q=huambo\n",
      "Processing Record Number: 323 | Karratha\n",
      "http://api.openweathermap.org/data/2.5/weather?units=Imperial&APPID=a885ffcdacdd0e4029cda18c950070b7&q=karratha\n",
      "Processing Record Number: 324 | Shakawe\n",
      "http://api.openweathermap.org/data/2.5/weather?units=Imperial&APPID=a885ffcdacdd0e4029cda18c950070b7&q=shakawe\n",
      "Processing Record Number: 325 | Jacqueville\n",
      "http://api.openweathermap.org/data/2.5/weather?units=Imperial&APPID=a885ffcdacdd0e4029cda18c950070b7&q=jacqueville\n",
      "Processing Record Number: 326 | Makkah al Mukarramah\n",
      "http://api.openweathermap.org/data/2.5/weather?units=Imperial&APPID=a885ffcdacdd0e4029cda18c950070b7&q=mecca\n",
      "City not found. Moving on to next call\n",
      "Processing Record Number: 327 | Presidencia Roque Sáenz Peña\n",
      "http://api.openweathermap.org/data/2.5/weather?units=Imperial&APPID=a885ffcdacdd0e4029cda18c950070b7&q=presidencia roque saenz pena\n",
      "Processing Record Number: 328 | Les Cayes\n",
      "http://api.openweathermap.org/data/2.5/weather?units=Imperial&APPID=a885ffcdacdd0e4029cda18c950070b7&q=les cayes\n",
      "Processing Record Number: 329 | Yining\n",
      "http://api.openweathermap.org/data/2.5/weather?units=Imperial&APPID=a885ffcdacdd0e4029cda18c950070b7&q=yining\n",
      "Processing Record Number: 330 | Lima\n",
      "http://api.openweathermap.org/data/2.5/weather?units=Imperial&APPID=a885ffcdacdd0e4029cda18c950070b7&q=lima\n",
      "Processing Record Number: 331 | Tataouine\n",
      "http://api.openweathermap.org/data/2.5/weather?units=Imperial&APPID=a885ffcdacdd0e4029cda18c950070b7&q=tatawin\n",
      "Processing Record Number: 332 | Saint-Leu\n",
      "http://api.openweathermap.org/data/2.5/weather?units=Imperial&APPID=a885ffcdacdd0e4029cda18c950070b7&q=saint-leu\n",
      "Processing Record Number: 333 | Coquimbo\n",
      "http://api.openweathermap.org/data/2.5/weather?units=Imperial&APPID=a885ffcdacdd0e4029cda18c950070b7&q=coquimbo\n",
      "Processing Record Number: 334 | Mana\n",
      "http://api.openweathermap.org/data/2.5/weather?units=Imperial&APPID=a885ffcdacdd0e4029cda18c950070b7&q=mana\n",
      "Processing Record Number: 335 | Mount Gambier\n",
      "http://api.openweathermap.org/data/2.5/weather?units=Imperial&APPID=a885ffcdacdd0e4029cda18c950070b7&q=mount gambier\n",
      "Processing Record Number: 336 | Trairi\n",
      "http://api.openweathermap.org/data/2.5/weather?units=Imperial&APPID=a885ffcdacdd0e4029cda18c950070b7&q=trairi\n",
      "Processing Record Number: 337 | Vao\n",
      "http://api.openweathermap.org/data/2.5/weather?units=Imperial&APPID=a885ffcdacdd0e4029cda18c950070b7&q=vao\n",
      "Processing Record Number: 338 | Neryungri\n",
      "http://api.openweathermap.org/data/2.5/weather?units=Imperial&APPID=a885ffcdacdd0e4029cda18c950070b7&q=neryungri\n",
      "Processing Record Number: 339 | Strezhevoy\n",
      "http://api.openweathermap.org/data/2.5/weather?units=Imperial&APPID=a885ffcdacdd0e4029cda18c950070b7&q=strezhevoy\n",
      "City not found. Moving on to next call\n",
      "Processing Record Number: 340 | Shagonar\n",
      "http://api.openweathermap.org/data/2.5/weather?units=Imperial&APPID=a885ffcdacdd0e4029cda18c950070b7&q=shagonar\n",
      "Processing Record Number: 341 | Kahului\n",
      "http://api.openweathermap.org/data/2.5/weather?units=Imperial&APPID=a885ffcdacdd0e4029cda18c950070b7&q=kahului\n",
      "Processing Record Number: 342 | Shingū\n",
      "http://api.openweathermap.org/data/2.5/weather?units=Imperial&APPID=a885ffcdacdd0e4029cda18c950070b7&q=shingu\n",
      "Processing Record Number: 343 | Itoman\n",
      "http://api.openweathermap.org/data/2.5/weather?units=Imperial&APPID=a885ffcdacdd0e4029cda18c950070b7&q=itoman\n",
      "Processing Record Number: 344 | Baiquan\n",
      "http://api.openweathermap.org/data/2.5/weather?units=Imperial&APPID=a885ffcdacdd0e4029cda18c950070b7&q=baiquan\n",
      "Processing Record Number: 345 | Kholtoson\n",
      "http://api.openweathermap.org/data/2.5/weather?units=Imperial&APPID=a885ffcdacdd0e4029cda18c950070b7&q=kholtoson\n",
      "Processing Record Number: 346 | Luau\n",
      "http://api.openweathermap.org/data/2.5/weather?units=Imperial&APPID=a885ffcdacdd0e4029cda18c950070b7&q=luau\n",
      "Processing Record Number: 347 | Llandrindod Wells\n",
      "http://api.openweathermap.org/data/2.5/weather?units=Imperial&APPID=a885ffcdacdd0e4029cda18c950070b7&q=llandrindod wells\n",
      "Processing Record Number: 348 | Russell\n",
      "http://api.openweathermap.org/data/2.5/weather?units=Imperial&APPID=a885ffcdacdd0e4029cda18c950070b7&q=russell\n",
      "Processing Record Number: 349 | Lorengau\n",
      "http://api.openweathermap.org/data/2.5/weather?units=Imperial&APPID=a885ffcdacdd0e4029cda18c950070b7&q=lorengau\n",
      "Processing Record Number: 350 | Port Elizabeth\n",
      "http://api.openweathermap.org/data/2.5/weather?units=Imperial&APPID=a885ffcdacdd0e4029cda18c950070b7&q=port elizabeth\n",
      "Processing Record Number: 351 | Virtsu\n",
      "http://api.openweathermap.org/data/2.5/weather?units=Imperial&APPID=a885ffcdacdd0e4029cda18c950070b7&q=virtsu\n",
      "Processing Record Number: 352 | São João da Barra\n",
      "http://api.openweathermap.org/data/2.5/weather?units=Imperial&APPID=a885ffcdacdd0e4029cda18c950070b7&q=sao joao da barra\n",
      "Processing Record Number: 353 | Ciudad Bolivar\n",
      "http://api.openweathermap.org/data/2.5/weather?units=Imperial&APPID=a885ffcdacdd0e4029cda18c950070b7&q=ciudad bolivar\n",
      "Processing Record Number: 354 | Dębica\n",
      "http://api.openweathermap.org/data/2.5/weather?units=Imperial&APPID=a885ffcdacdd0e4029cda18c950070b7&q=debica\n",
      "Processing Record Number: 355 | Dunedin\n",
      "http://api.openweathermap.org/data/2.5/weather?units=Imperial&APPID=a885ffcdacdd0e4029cda18c950070b7&q=dunedin\n",
      "Processing Record Number: 356 | Wanning\n",
      "http://api.openweathermap.org/data/2.5/weather?units=Imperial&APPID=a885ffcdacdd0e4029cda18c950070b7&q=wanning\n",
      "Processing Record Number: 357 | Nsoko\n",
      "http://api.openweathermap.org/data/2.5/weather?units=Imperial&APPID=a885ffcdacdd0e4029cda18c950070b7&q=nsoko\n",
      "Processing Record Number: 358 | Mahabalipuram\n",
      "http://api.openweathermap.org/data/2.5/weather?units=Imperial&APPID=a885ffcdacdd0e4029cda18c950070b7&q=mamallapuram\n",
      "Processing Record Number: 359 | Marystown\n",
      "http://api.openweathermap.org/data/2.5/weather?units=Imperial&APPID=a885ffcdacdd0e4029cda18c950070b7&q=marystown\n",
      "Processing Record Number: 360 | Laas\n",
      "http://api.openweathermap.org/data/2.5/weather?units=Imperial&APPID=a885ffcdacdd0e4029cda18c950070b7&q=lasa\n",
      "Processing Record Number: 361 | Mariental\n",
      "http://api.openweathermap.org/data/2.5/weather?units=Imperial&APPID=a885ffcdacdd0e4029cda18c950070b7&q=mariental\n",
      "Processing Record Number: 362 | Yumen\n",
      "http://api.openweathermap.org/data/2.5/weather?units=Imperial&APPID=a885ffcdacdd0e4029cda18c950070b7&q=yumen\n",
      "Processing Record Number: 363 | Mukhen\n",
      "http://api.openweathermap.org/data/2.5/weather?units=Imperial&APPID=a885ffcdacdd0e4029cda18c950070b7&q=mukhen\n",
      "Processing Record Number: 364 | Tiarei\n",
      "http://api.openweathermap.org/data/2.5/weather?units=Imperial&APPID=a885ffcdacdd0e4029cda18c950070b7&q=tiarei\n",
      "Processing Record Number: 365 | Tiksi\n",
      "http://api.openweathermap.org/data/2.5/weather?units=Imperial&APPID=a885ffcdacdd0e4029cda18c950070b7&q=tiksi\n",
      "Processing Record Number: 366 | Andilamena\n",
      "http://api.openweathermap.org/data/2.5/weather?units=Imperial&APPID=a885ffcdacdd0e4029cda18c950070b7&q=andilamena\n",
      "Processing Record Number: 367 | Farnes\n",
      "http://api.openweathermap.org/data/2.5/weather?units=Imperial&APPID=a885ffcdacdd0e4029cda18c950070b7&q=ovre ardal\n",
      "Processing Record Number: 368 | Cockburn Town\n",
      "http://api.openweathermap.org/data/2.5/weather?units=Imperial&APPID=a885ffcdacdd0e4029cda18c950070b7&q=cockburn town\n",
      "Processing Record Number: 369 | Salinas\n",
      "http://api.openweathermap.org/data/2.5/weather?units=Imperial&APPID=a885ffcdacdd0e4029cda18c950070b7&q=salinas\n",
      "Processing Record Number: 370 | Ouargaye\n",
      "http://api.openweathermap.org/data/2.5/weather?units=Imperial&APPID=a885ffcdacdd0e4029cda18c950070b7&q=ouargaye\n"
     ]
    },
    {
     "name": "stdout",
     "output_type": "stream",
     "text": [
      "Processing Record Number: 371 | Great Bend\n",
      "http://api.openweathermap.org/data/2.5/weather?units=Imperial&APPID=a885ffcdacdd0e4029cda18c950070b7&q=great bend\n",
      "Processing Record Number: 372 | Krasnaya Gorka\n",
      "http://api.openweathermap.org/data/2.5/weather?units=Imperial&APPID=a885ffcdacdd0e4029cda18c950070b7&q=krasnaya gorka\n",
      "Processing Record Number: 373 | Torreón\n",
      "http://api.openweathermap.org/data/2.5/weather?units=Imperial&APPID=a885ffcdacdd0e4029cda18c950070b7&q=torreon\n",
      "Processing Record Number: 374 | Salalah\n",
      "http://api.openweathermap.org/data/2.5/weather?units=Imperial&APPID=a885ffcdacdd0e4029cda18c950070b7&q=salalah\n",
      "Processing Record Number: 375 | Fort Nelson\n",
      "http://api.openweathermap.org/data/2.5/weather?units=Imperial&APPID=a885ffcdacdd0e4029cda18c950070b7&q=fort nelson\n",
      "Processing Record Number: 376 | Opuwo\n",
      "http://api.openweathermap.org/data/2.5/weather?units=Imperial&APPID=a885ffcdacdd0e4029cda18c950070b7&q=opuwo\n",
      "Processing Record Number: 377 | Pálairos\n",
      "http://api.openweathermap.org/data/2.5/weather?units=Imperial&APPID=a885ffcdacdd0e4029cda18c950070b7&q=palairos\n",
      "Processing Record Number: 378 | Billings Metropolitan Area\n",
      "http://api.openweathermap.org/data/2.5/weather?units=Imperial&APPID=a885ffcdacdd0e4029cda18c950070b7&q=billings\n",
      "Processing Record Number: 379 | Māngrol\n",
      "http://api.openweathermap.org/data/2.5/weather?units=Imperial&APPID=a885ffcdacdd0e4029cda18c950070b7&q=mangrol\n",
      "Processing Record Number: 380 | La Ronge\n",
      "http://api.openweathermap.org/data/2.5/weather?units=Imperial&APPID=a885ffcdacdd0e4029cda18c950070b7&q=la ronge\n",
      "Processing Record Number: 381 | Porbandar\n",
      "http://api.openweathermap.org/data/2.5/weather?units=Imperial&APPID=a885ffcdacdd0e4029cda18c950070b7&q=porbandar\n",
      "Processing Record Number: 382 | Ollioules\n",
      "http://api.openweathermap.org/data/2.5/weather?units=Imperial&APPID=a885ffcdacdd0e4029cda18c950070b7&q=ollioules\n",
      "Processing Record Number: 383 | Ola\n",
      "http://api.openweathermap.org/data/2.5/weather?units=Imperial&APPID=a885ffcdacdd0e4029cda18c950070b7&q=ola\n",
      "Processing Record Number: 384 | Polokwane\n",
      "http://api.openweathermap.org/data/2.5/weather?units=Imperial&APPID=a885ffcdacdd0e4029cda18c950070b7&q=pietersburg\n",
      "City not found. Moving on to next call\n",
      "Processing Record Number: 385 | Nichinan\n",
      "http://api.openweathermap.org/data/2.5/weather?units=Imperial&APPID=a885ffcdacdd0e4029cda18c950070b7&q=nichinan\n",
      "Processing Record Number: 386 | Honiara\n",
      "http://api.openweathermap.org/data/2.5/weather?units=Imperial&APPID=a885ffcdacdd0e4029cda18c950070b7&q=honiara\n",
      "Processing Record Number: 387 | Broken Hill\n",
      "http://api.openweathermap.org/data/2.5/weather?units=Imperial&APPID=a885ffcdacdd0e4029cda18c950070b7&q=broken hill\n",
      "Processing Record Number: 388 | Guangyuan\n",
      "http://api.openweathermap.org/data/2.5/weather?units=Imperial&APPID=a885ffcdacdd0e4029cda18c950070b7&q=guangyuan\n",
      "Processing Record Number: 389 | Amapá\n",
      "http://api.openweathermap.org/data/2.5/weather?units=Imperial&APPID=a885ffcdacdd0e4029cda18c950070b7&q=amapa\n",
      "Processing Record Number: 390 | Juegang\n",
      "http://api.openweathermap.org/data/2.5/weather?units=Imperial&APPID=a885ffcdacdd0e4029cda18c950070b7&q=juegang\n",
      "Processing Record Number: 391 | Pimenteiras\n",
      "http://api.openweathermap.org/data/2.5/weather?units=Imperial&APPID=a885ffcdacdd0e4029cda18c950070b7&q=pimenteiras\n",
      "Processing Record Number: 392 | Kudahuvadhoo\n",
      "http://api.openweathermap.org/data/2.5/weather?units=Imperial&APPID=a885ffcdacdd0e4029cda18c950070b7&q=kudahuvadhoo\n",
      "Processing Record Number: 393 | Esim\n",
      "http://api.openweathermap.org/data/2.5/weather?units=Imperial&APPID=a885ffcdacdd0e4029cda18c950070b7&q=axim\n",
      "Processing Record Number: 394 | Sivaki\n",
      "http://api.openweathermap.org/data/2.5/weather?units=Imperial&APPID=a885ffcdacdd0e4029cda18c950070b7&q=sivaki\n",
      "Processing Record Number: 395 | Bridlington\n",
      "http://api.openweathermap.org/data/2.5/weather?units=Imperial&APPID=a885ffcdacdd0e4029cda18c950070b7&q=bridlington\n",
      "Processing Record Number: 396 | Kirakira\n",
      "http://api.openweathermap.org/data/2.5/weather?units=Imperial&APPID=a885ffcdacdd0e4029cda18c950070b7&q=kirakira\n",
      "Processing Record Number: 397 | Salina\n",
      "http://api.openweathermap.org/data/2.5/weather?units=Imperial&APPID=a885ffcdacdd0e4029cda18c950070b7&q=salina\n",
      "Processing Record Number: 398 | Noumea\n",
      "http://api.openweathermap.org/data/2.5/weather?units=Imperial&APPID=a885ffcdacdd0e4029cda18c950070b7&q=noumea\n",
      "Processing Record Number: 399 | Atar\n",
      "http://api.openweathermap.org/data/2.5/weather?units=Imperial&APPID=a885ffcdacdd0e4029cda18c950070b7&q=atar\n",
      "Processing Record Number: 400 | Ahipara\n",
      "http://api.openweathermap.org/data/2.5/weather?units=Imperial&APPID=a885ffcdacdd0e4029cda18c950070b7&q=ahipara\n",
      "Processing Record Number: 401 | Srednekolymsk\n",
      "http://api.openweathermap.org/data/2.5/weather?units=Imperial&APPID=a885ffcdacdd0e4029cda18c950070b7&q=srednekolymsk\n",
      "Processing Record Number: 402 | Lienz\n",
      "http://api.openweathermap.org/data/2.5/weather?units=Imperial&APPID=a885ffcdacdd0e4029cda18c950070b7&q=lienz\n",
      "Processing Record Number: 403 | Daru\n",
      "http://api.openweathermap.org/data/2.5/weather?units=Imperial&APPID=a885ffcdacdd0e4029cda18c950070b7&q=daru\n",
      "Processing Record Number: 404 | Nicoya\n",
      "http://api.openweathermap.org/data/2.5/weather?units=Imperial&APPID=a885ffcdacdd0e4029cda18c950070b7&q=nicoya\n",
      "Processing Record Number: 405 | Çanakkale Province\n",
      "http://api.openweathermap.org/data/2.5/weather?units=Imperial&APPID=a885ffcdacdd0e4029cda18c950070b7&q=canakkale\n",
      "Processing Record Number: 406 | Ulladulla\n",
      "http://api.openweathermap.org/data/2.5/weather?units=Imperial&APPID=a885ffcdacdd0e4029cda18c950070b7&q=ulladulla\n",
      "City not found. Moving on to next call\n",
      "Processing Record Number: 407 | Soke\n",
      "http://api.openweathermap.org/data/2.5/weather?units=Imperial&APPID=a885ffcdacdd0e4029cda18c950070b7&q=soke\n",
      "City not found. Moving on to next call\n",
      "Processing Record Number: 408 | Larsnes\n",
      "http://api.openweathermap.org/data/2.5/weather?units=Imperial&APPID=a885ffcdacdd0e4029cda18c950070b7&q=larsnes\n",
      "Processing Record Number: 409 | Yulara\n",
      "http://api.openweathermap.org/data/2.5/weather?units=Imperial&APPID=a885ffcdacdd0e4029cda18c950070b7&q=yulara\n",
      "Processing Record Number: 410 | Tuy Hoa\n",
      "http://api.openweathermap.org/data/2.5/weather?units=Imperial&APPID=a885ffcdacdd0e4029cda18c950070b7&q=tuy hoa\n",
      "Processing Record Number: 411 | Morondava\n",
      "http://api.openweathermap.org/data/2.5/weather?units=Imperial&APPID=a885ffcdacdd0e4029cda18c950070b7&q=morondava\n",
      "Processing Record Number: 412 | George Town\n",
      "http://api.openweathermap.org/data/2.5/weather?units=Imperial&APPID=a885ffcdacdd0e4029cda18c950070b7&q=georgetown\n",
      "Processing Record Number: 413 | Broome\n",
      "http://api.openweathermap.org/data/2.5/weather?units=Imperial&APPID=a885ffcdacdd0e4029cda18c950070b7&q=broome\n",
      "Processing Record Number: 414 | Rodrigues Alves\n",
      "http://api.openweathermap.org/data/2.5/weather?units=Imperial&APPID=a885ffcdacdd0e4029cda18c950070b7&q=rodrigues alves\n",
      "Processing Record Number: 415 | Shimoda\n",
      "http://api.openweathermap.org/data/2.5/weather?units=Imperial&APPID=a885ffcdacdd0e4029cda18c950070b7&q=shimoda\n",
      "Processing Record Number: 416 | Colquechaca\n",
      "http://api.openweathermap.org/data/2.5/weather?units=Imperial&APPID=a885ffcdacdd0e4029cda18c950070b7&q=colquechaca\n",
      "Processing Record Number: 417 | Puerto Quijarro\n",
      "http://api.openweathermap.org/data/2.5/weather?units=Imperial&APPID=a885ffcdacdd0e4029cda18c950070b7&q=puerto quijarro\n",
      "Processing Record Number: 418 | Nikolskoye\n",
      "http://api.openweathermap.org/data/2.5/weather?units=Imperial&APPID=a885ffcdacdd0e4029cda18c950070b7&q=nikolskoye\n",
      "Processing Record Number: 419 | Messina\n",
      "http://api.openweathermap.org/data/2.5/weather?units=Imperial&APPID=a885ffcdacdd0e4029cda18c950070b7&q=messina\n",
      "Processing Record Number: 420 | Campos Altos\n",
      "http://api.openweathermap.org/data/2.5/weather?units=Imperial&APPID=a885ffcdacdd0e4029cda18c950070b7&q=campos altos\n",
      "Processing Record Number: 421 | Liepāja\n",
      "http://api.openweathermap.org/data/2.5/weather?units=Imperial&APPID=a885ffcdacdd0e4029cda18c950070b7&q=liepaja\n",
      "Processing Record Number: 422 | Baruun-Urt\n",
      "http://api.openweathermap.org/data/2.5/weather?units=Imperial&APPID=a885ffcdacdd0e4029cda18c950070b7&q=baruun-urt\n",
      "Processing Record Number: 423 | Jacareacanga\n",
      "http://api.openweathermap.org/data/2.5/weather?units=Imperial&APPID=a885ffcdacdd0e4029cda18c950070b7&q=jacareacanga\n"
     ]
    },
    {
     "name": "stdout",
     "output_type": "stream",
     "text": [
      "Processing Record Number: 424 | Onverwacht\n",
      "http://api.openweathermap.org/data/2.5/weather?units=Imperial&APPID=a885ffcdacdd0e4029cda18c950070b7&q=onverwacht\n",
      "Processing Record Number: 425 | Torbay\n",
      "http://api.openweathermap.org/data/2.5/weather?units=Imperial&APPID=a885ffcdacdd0e4029cda18c950070b7&q=torbay\n",
      "Processing Record Number: 426 | Anadyr\n",
      "http://api.openweathermap.org/data/2.5/weather?units=Imperial&APPID=a885ffcdacdd0e4029cda18c950070b7&q=anadyr\n",
      "City not found. Moving on to next call\n",
      "Processing Record Number: 427 | Tessalit\n",
      "http://api.openweathermap.org/data/2.5/weather?units=Imperial&APPID=a885ffcdacdd0e4029cda18c950070b7&q=tessalit\n",
      "City not found. Moving on to next call\n",
      "City not found. Moving on to next call\n",
      "Processing Record Number: 428 | Half Moon Bay\n",
      "http://api.openweathermap.org/data/2.5/weather?units=Imperial&APPID=a885ffcdacdd0e4029cda18c950070b7&q=half moon bay\n",
      "Processing Record Number: 429 | Asău\n",
      "http://api.openweathermap.org/data/2.5/weather?units=Imperial&APPID=a885ffcdacdd0e4029cda18c950070b7&q=asau\n",
      "Processing Record Number: 430 | Muzhi\n",
      "http://api.openweathermap.org/data/2.5/weather?units=Imperial&APPID=a885ffcdacdd0e4029cda18c950070b7&q=muzhi\n",
      "Processing Record Number: 431 | Puerto Colombia\n",
      "http://api.openweathermap.org/data/2.5/weather?units=Imperial&APPID=a885ffcdacdd0e4029cda18c950070b7&q=puerto colombia\n",
      "Processing Record Number: 432 | Ucluelet\n",
      "http://api.openweathermap.org/data/2.5/weather?units=Imperial&APPID=a885ffcdacdd0e4029cda18c950070b7&q=ucluelet\n",
      "Processing Record Number: 433 | Vila do Maio\n",
      "http://api.openweathermap.org/data/2.5/weather?units=Imperial&APPID=a885ffcdacdd0e4029cda18c950070b7&q=vila do maio\n",
      "Processing Record Number: 434 | Yerbogachën\n",
      "http://api.openweathermap.org/data/2.5/weather?units=Imperial&APPID=a885ffcdacdd0e4029cda18c950070b7&q=yerbogachen\n",
      "Processing Record Number: 435 | Shitkino\n",
      "http://api.openweathermap.org/data/2.5/weather?units=Imperial&APPID=a885ffcdacdd0e4029cda18c950070b7&q=shitkino\n",
      "Processing Record Number: 436 | Khāsh\n",
      "http://api.openweathermap.org/data/2.5/weather?units=Imperial&APPID=a885ffcdacdd0e4029cda18c950070b7&q=khash\n",
      "Processing Record Number: 437 | Lewistown\n",
      "http://api.openweathermap.org/data/2.5/weather?units=Imperial&APPID=a885ffcdacdd0e4029cda18c950070b7&q=lewistown\n",
      "Processing Record Number: 438 | Talnakh\n",
      "http://api.openweathermap.org/data/2.5/weather?units=Imperial&APPID=a885ffcdacdd0e4029cda18c950070b7&q=talnakh\n",
      "Processing Record Number: 439 | Lensk\n",
      "http://api.openweathermap.org/data/2.5/weather?units=Imperial&APPID=a885ffcdacdd0e4029cda18c950070b7&q=lensk\n",
      "Processing Record Number: 440 | Sept-Îles\n",
      "http://api.openweathermap.org/data/2.5/weather?units=Imperial&APPID=a885ffcdacdd0e4029cda18c950070b7&q=sept-iles\n",
      "Processing Record Number: 441 | Khasan\n",
      "http://api.openweathermap.org/data/2.5/weather?units=Imperial&APPID=a885ffcdacdd0e4029cda18c950070b7&q=khasan\n",
      "Processing Record Number: 442 | Bethel\n",
      "http://api.openweathermap.org/data/2.5/weather?units=Imperial&APPID=a885ffcdacdd0e4029cda18c950070b7&q=bethel\n",
      "Processing Record Number: 443 | Kondinskoye\n",
      "http://api.openweathermap.org/data/2.5/weather?units=Imperial&APPID=a885ffcdacdd0e4029cda18c950070b7&q=kondinskoye\n",
      "Processing Record Number: 444 | Luleå\n",
      "http://api.openweathermap.org/data/2.5/weather?units=Imperial&APPID=a885ffcdacdd0e4029cda18c950070b7&q=lulea\n",
      "Processing Record Number: 445 | Teya\n",
      "http://api.openweathermap.org/data/2.5/weather?units=Imperial&APPID=a885ffcdacdd0e4029cda18c950070b7&q=teya\n",
      "Processing Record Number: 446 | Beyneu\n",
      "http://api.openweathermap.org/data/2.5/weather?units=Imperial&APPID=a885ffcdacdd0e4029cda18c950070b7&q=beyneu\n",
      "Processing Record Number: 447 | Itupiranga\n",
      "http://api.openweathermap.org/data/2.5/weather?units=Imperial&APPID=a885ffcdacdd0e4029cda18c950070b7&q=itupiranga\n",
      "Processing Record Number: 448 | Yarke Pole\n",
      "http://api.openweathermap.org/data/2.5/weather?units=Imperial&APPID=a885ffcdacdd0e4029cda18c950070b7&q=yarke pole\n",
      "Processing Record Number: 449 | Santa Inês\n",
      "http://api.openweathermap.org/data/2.5/weather?units=Imperial&APPID=a885ffcdacdd0e4029cda18c950070b7&q=santa ines\n",
      "Processing Record Number: 450 | San Martín\n",
      "http://api.openweathermap.org/data/2.5/weather?units=Imperial&APPID=a885ffcdacdd0e4029cda18c950070b7&q=san martin\n",
      "Processing Record Number: 451 | Laguna\n",
      "http://api.openweathermap.org/data/2.5/weather?units=Imperial&APPID=a885ffcdacdd0e4029cda18c950070b7&q=laguna\n",
      "Processing Record Number: 452 | Cavalcante\n",
      "http://api.openweathermap.org/data/2.5/weather?units=Imperial&APPID=a885ffcdacdd0e4029cda18c950070b7&q=cavalcante\n",
      "Processing Record Number: 453 | Negombo\n",
      "http://api.openweathermap.org/data/2.5/weather?units=Imperial&APPID=a885ffcdacdd0e4029cda18c950070b7&q=negombo\n",
      "Processing Record Number: 454 | Chara\n",
      "http://api.openweathermap.org/data/2.5/weather?units=Imperial&APPID=a885ffcdacdd0e4029cda18c950070b7&q=chara\n",
      "Processing Record Number: 455 | Ust-Kuyga\n",
      "http://api.openweathermap.org/data/2.5/weather?units=Imperial&APPID=a885ffcdacdd0e4029cda18c950070b7&q=ust-kuyga\n",
      "Processing Record Number: 456 | Aleksandrov Gay\n",
      "http://api.openweathermap.org/data/2.5/weather?units=Imperial&APPID=a885ffcdacdd0e4029cda18c950070b7&q=aleksandrov gay\n",
      "Processing Record Number: 457 | Polis\n",
      "http://api.openweathermap.org/data/2.5/weather?units=Imperial&APPID=a885ffcdacdd0e4029cda18c950070b7&q=polis\n",
      "Processing Record Number: 458 | Sibolga\n",
      "http://api.openweathermap.org/data/2.5/weather?units=Imperial&APPID=a885ffcdacdd0e4029cda18c950070b7&q=sibolga\n",
      "Processing Record Number: 459 | Aserrí\n",
      "http://api.openweathermap.org/data/2.5/weather?units=Imperial&APPID=a885ffcdacdd0e4029cda18c950070b7&q=aserri\n",
      "Processing Record Number: 460 | Mīnāb\n",
      "http://api.openweathermap.org/data/2.5/weather?units=Imperial&APPID=a885ffcdacdd0e4029cda18c950070b7&q=minab\n",
      "Processing Record Number: 461 | Gao\n",
      "http://api.openweathermap.org/data/2.5/weather?units=Imperial&APPID=a885ffcdacdd0e4029cda18c950070b7&q=gao\n",
      "Processing Record Number: 462 | Oruzgan\n",
      "http://api.openweathermap.org/data/2.5/weather?units=Imperial&APPID=a885ffcdacdd0e4029cda18c950070b7&q=uruzgan\n",
      "Processing Record Number: 463 | Mangai\n",
      "http://api.openweathermap.org/data/2.5/weather?units=Imperial&APPID=a885ffcdacdd0e4029cda18c950070b7&q=mangai\n",
      "Processing Record Number: 464 | Bambous Virieux\n",
      "http://api.openweathermap.org/data/2.5/weather?units=Imperial&APPID=a885ffcdacdd0e4029cda18c950070b7&q=bambous virieux\n",
      "Processing Record Number: 465 | Phalaborwa\n",
      "http://api.openweathermap.org/data/2.5/weather?units=Imperial&APPID=a885ffcdacdd0e4029cda18c950070b7&q=phalaborwa\n",
      "Processing Record Number: 466 | Kieta\n",
      "http://api.openweathermap.org/data/2.5/weather?units=Imperial&APPID=a885ffcdacdd0e4029cda18c950070b7&q=kieta\n",
      "Processing Record Number: 467 | Luanda\n",
      "http://api.openweathermap.org/data/2.5/weather?units=Imperial&APPID=a885ffcdacdd0e4029cda18c950070b7&q=luanda\n",
      "Processing Record Number: 468 | Itarema\n",
      "http://api.openweathermap.org/data/2.5/weather?units=Imperial&APPID=a885ffcdacdd0e4029cda18c950070b7&q=itarema\n",
      "Processing Record Number: 469 | Northam\n",
      "http://api.openweathermap.org/data/2.5/weather?units=Imperial&APPID=a885ffcdacdd0e4029cda18c950070b7&q=northam\n",
      "City not found. Moving on to next call\n",
      "Processing Record Number: 470 | Camargo\n",
      "http://api.openweathermap.org/data/2.5/weather?units=Imperial&APPID=a885ffcdacdd0e4029cda18c950070b7&q=camargo\n",
      "City not found. Moving on to next call\n",
      "Processing Record Number: 471 | Qasigiannguit\n",
      "http://api.openweathermap.org/data/2.5/weather?units=Imperial&APPID=a885ffcdacdd0e4029cda18c950070b7&q=qasigiannguit\n",
      "Processing Record Number: 472 | Porto-Novo\n",
      "http://api.openweathermap.org/data/2.5/weather?units=Imperial&APPID=a885ffcdacdd0e4029cda18c950070b7&q=porto novo\n",
      "Processing Record Number: 473 | Tchaourou\n",
      "http://api.openweathermap.org/data/2.5/weather?units=Imperial&APPID=a885ffcdacdd0e4029cda18c950070b7&q=tchaourou\n",
      "Processing Record Number: 474 | Huicheng\n",
      "http://api.openweathermap.org/data/2.5/weather?units=Imperial&APPID=a885ffcdacdd0e4029cda18c950070b7&q=huicheng\n",
      "Processing Record Number: 475 | Casper\n",
      "http://api.openweathermap.org/data/2.5/weather?units=Imperial&APPID=a885ffcdacdd0e4029cda18c950070b7&q=casper\n",
      "Processing Record Number: 476 | Tucuruí\n",
      "http://api.openweathermap.org/data/2.5/weather?units=Imperial&APPID=a885ffcdacdd0e4029cda18c950070b7&q=tucurui\n"
     ]
    },
    {
     "name": "stdout",
     "output_type": "stream",
     "text": [
      "Processing Record Number: 477 | Xichang\n",
      "http://api.openweathermap.org/data/2.5/weather?units=Imperial&APPID=a885ffcdacdd0e4029cda18c950070b7&q=xichang\n",
      "Processing Record Number: 478 | Narsaq\n",
      "http://api.openweathermap.org/data/2.5/weather?units=Imperial&APPID=a885ffcdacdd0e4029cda18c950070b7&q=narsaq\n",
      "Processing Record Number: 479 | Flin Flon\n",
      "http://api.openweathermap.org/data/2.5/weather?units=Imperial&APPID=a885ffcdacdd0e4029cda18c950070b7&q=flin flon\n",
      "Processing Record Number: 480 | Varhaug\n",
      "http://api.openweathermap.org/data/2.5/weather?units=Imperial&APPID=a885ffcdacdd0e4029cda18c950070b7&q=varhaug\n",
      "Processing Record Number: 481 | Kannur\n",
      "http://api.openweathermap.org/data/2.5/weather?units=Imperial&APPID=a885ffcdacdd0e4029cda18c950070b7&q=kannur\n",
      "Processing Record Number: 482 | Maurānwān\n",
      "http://api.openweathermap.org/data/2.5/weather?units=Imperial&APPID=a885ffcdacdd0e4029cda18c950070b7&q=maurawan\n",
      "Processing Record Number: 483 | Weihai\n",
      "http://api.openweathermap.org/data/2.5/weather?units=Imperial&APPID=a885ffcdacdd0e4029cda18c950070b7&q=weihai\n",
      "Processing Record Number: 484 | Minsk\n",
      "http://api.openweathermap.org/data/2.5/weather?units=Imperial&APPID=a885ffcdacdd0e4029cda18c950070b7&q=minsk\n",
      "Processing Record Number: 485 | Verkhoyansk\n",
      "http://api.openweathermap.org/data/2.5/weather?units=Imperial&APPID=a885ffcdacdd0e4029cda18c950070b7&q=verkhoyansk\n",
      "Processing Record Number: 486 | Mtambile\n",
      "http://api.openweathermap.org/data/2.5/weather?units=Imperial&APPID=a885ffcdacdd0e4029cda18c950070b7&q=mtambile\n",
      "Processing Record Number: 487 | Felanitx\n",
      "http://api.openweathermap.org/data/2.5/weather?units=Imperial&APPID=a885ffcdacdd0e4029cda18c950070b7&q=felanitx\n",
      "City not found. Moving on to next call\n",
      "Processing Record Number: 488 | Ancud\n",
      "http://api.openweathermap.org/data/2.5/weather?units=Imperial&APPID=a885ffcdacdd0e4029cda18c950070b7&q=ancud\n",
      "Processing Record Number: 489 | Brae\n",
      "http://api.openweathermap.org/data/2.5/weather?units=Imperial&APPID=a885ffcdacdd0e4029cda18c950070b7&q=brae\n",
      "Processing Record Number: 490 | Camacha\n",
      "http://api.openweathermap.org/data/2.5/weather?units=Imperial&APPID=a885ffcdacdd0e4029cda18c950070b7&q=camacha\n",
      "Processing Record Number: 491 | Dwārka\n",
      "http://api.openweathermap.org/data/2.5/weather?units=Imperial&APPID=a885ffcdacdd0e4029cda18c950070b7&q=dwarka\n",
      "Processing Record Number: 492 | Rāvar\n",
      "http://api.openweathermap.org/data/2.5/weather?units=Imperial&APPID=a885ffcdacdd0e4029cda18c950070b7&q=ravar\n",
      "Processing Record Number: 493 | Manyana\n",
      "http://api.openweathermap.org/data/2.5/weather?units=Imperial&APPID=a885ffcdacdd0e4029cda18c950070b7&q=manyana\n",
      "Processing Record Number: 494 | Medicine Hat\n",
      "http://api.openweathermap.org/data/2.5/weather?units=Imperial&APPID=a885ffcdacdd0e4029cda18c950070b7&q=medicine hat\n",
      "Processing Record Number: 495 | Hurghada\n",
      "http://api.openweathermap.org/data/2.5/weather?units=Imperial&APPID=a885ffcdacdd0e4029cda18c950070b7&q=hurghada\n",
      "Processing Record Number: 496 | Lar\n",
      "http://api.openweathermap.org/data/2.5/weather?units=Imperial&APPID=a885ffcdacdd0e4029cda18c950070b7&q=lar\n",
      "City not found. Moving on to next call\n",
      "Processing Record Number: 497 | Mananara\n",
      "http://api.openweathermap.org/data/2.5/weather?units=Imperial&APPID=a885ffcdacdd0e4029cda18c950070b7&q=mananara\n",
      "Processing Record Number: 498 | Adrar\n",
      "http://api.openweathermap.org/data/2.5/weather?units=Imperial&APPID=a885ffcdacdd0e4029cda18c950070b7&q=adrar\n",
      "Processing Record Number: 499 | Podporozh'ye\n",
      "http://api.openweathermap.org/data/2.5/weather?units=Imperial&APPID=a885ffcdacdd0e4029cda18c950070b7&q=podporozhye\n",
      "Processing Record Number: 500 | Berlevåg\n",
      "http://api.openweathermap.org/data/2.5/weather?units=Imperial&APPID=a885ffcdacdd0e4029cda18c950070b7&q=berlevag\n",
      "Processing Record Number: 501 | São Félix do Xingu\n",
      "http://api.openweathermap.org/data/2.5/weather?units=Imperial&APPID=a885ffcdacdd0e4029cda18c950070b7&q=sao felix do xingu\n",
      "Processing Record Number: 502 | Abonnema\n",
      "http://api.openweathermap.org/data/2.5/weather?units=Imperial&APPID=a885ffcdacdd0e4029cda18c950070b7&q=abonnema\n",
      "Processing Record Number: 503 | Sola\n",
      "http://api.openweathermap.org/data/2.5/weather?units=Imperial&APPID=a885ffcdacdd0e4029cda18c950070b7&q=sola\n",
      "Processing Record Number: 504 | Chingirlau\n",
      "http://api.openweathermap.org/data/2.5/weather?units=Imperial&APPID=a885ffcdacdd0e4029cda18c950070b7&q=chingirlau\n",
      "Processing Record Number: 505 | Nishihara\n",
      "http://api.openweathermap.org/data/2.5/weather?units=Imperial&APPID=a885ffcdacdd0e4029cda18c950070b7&q=nishihara\n",
      "Processing Record Number: 506 | Port Said\n",
      "http://api.openweathermap.org/data/2.5/weather?units=Imperial&APPID=a885ffcdacdd0e4029cda18c950070b7&q=port said\n",
      "Processing Record Number: 507 | Lagoa\n",
      "http://api.openweathermap.org/data/2.5/weather?units=Imperial&APPID=a885ffcdacdd0e4029cda18c950070b7&q=lagoa\n",
      "Processing Record Number: 508 | Huarmey\n",
      "http://api.openweathermap.org/data/2.5/weather?units=Imperial&APPID=a885ffcdacdd0e4029cda18c950070b7&q=huarmey\n",
      "Processing Record Number: 509 | Chimbarongo\n",
      "http://api.openweathermap.org/data/2.5/weather?units=Imperial&APPID=a885ffcdacdd0e4029cda18c950070b7&q=chimbarongo\n",
      "Processing Record Number: 510 | Camapuã\n",
      "http://api.openweathermap.org/data/2.5/weather?units=Imperial&APPID=a885ffcdacdd0e4029cda18c950070b7&q=camapua\n",
      "Processing Record Number: 511 | Susaki\n",
      "http://api.openweathermap.org/data/2.5/weather?units=Imperial&APPID=a885ffcdacdd0e4029cda18c950070b7&q=susaki\n",
      "Processing Record Number: 512 | Severnoye\n",
      "http://api.openweathermap.org/data/2.5/weather?units=Imperial&APPID=a885ffcdacdd0e4029cda18c950070b7&q=severnoye\n",
      "Processing Record Number: 513 | College\n",
      "http://api.openweathermap.org/data/2.5/weather?units=Imperial&APPID=a885ffcdacdd0e4029cda18c950070b7&q=college\n",
      "Processing Record Number: 514 | Pisco\n",
      "http://api.openweathermap.org/data/2.5/weather?units=Imperial&APPID=a885ffcdacdd0e4029cda18c950070b7&q=pisco\n",
      "Processing Record Number: 515 | Bobon\n",
      "http://api.openweathermap.org/data/2.5/weather?units=Imperial&APPID=a885ffcdacdd0e4029cda18c950070b7&q=bobon\n",
      "Processing Record Number: 516 | Uniontown\n",
      "http://api.openweathermap.org/data/2.5/weather?units=Imperial&APPID=a885ffcdacdd0e4029cda18c950070b7&q=uniontown\n",
      "Processing Record Number: 517 | High Level\n",
      "http://api.openweathermap.org/data/2.5/weather?units=Imperial&APPID=a885ffcdacdd0e4029cda18c950070b7&q=high level\n",
      "Processing Record Number: 518 | Los Llanos de Aridane\n",
      "http://api.openweathermap.org/data/2.5/weather?units=Imperial&APPID=a885ffcdacdd0e4029cda18c950070b7&q=los llanos de aridane\n",
      "Processing Record Number: 519 | Pokhara\n",
      "http://api.openweathermap.org/data/2.5/weather?units=Imperial&APPID=a885ffcdacdd0e4029cda18c950070b7&q=pokhara\n",
      "Processing Record Number: 520 | Tesistán\n",
      "http://api.openweathermap.org/data/2.5/weather?units=Imperial&APPID=a885ffcdacdd0e4029cda18c950070b7&q=tesistan\n",
      "Processing Record Number: 521 | Elk River\n",
      "http://api.openweathermap.org/data/2.5/weather?units=Imperial&APPID=a885ffcdacdd0e4029cda18c950070b7&q=elk river\n",
      "Processing Record Number: 522 | Tura\n",
      "http://api.openweathermap.org/data/2.5/weather?units=Imperial&APPID=a885ffcdacdd0e4029cda18c950070b7&q=tura\n",
      "Processing Record Number: 523 | Prainha\n",
      "http://api.openweathermap.org/data/2.5/weather?units=Imperial&APPID=a885ffcdacdd0e4029cda18c950070b7&q=prainha\n",
      "Processing Record Number: 524 | Genhe\n",
      "http://api.openweathermap.org/data/2.5/weather?units=Imperial&APPID=a885ffcdacdd0e4029cda18c950070b7&q=genhe\n",
      "Processing Record Number: 525 | Mnogovershinnyy\n",
      "http://api.openweathermap.org/data/2.5/weather?units=Imperial&APPID=a885ffcdacdd0e4029cda18c950070b7&q=mnogovershinnyy\n",
      "Processing Record Number: 526 | Lashio\n",
      "http://api.openweathermap.org/data/2.5/weather?units=Imperial&APPID=a885ffcdacdd0e4029cda18c950070b7&q=lashio\n",
      "City not found. Moving on to next call\n",
      "Processing Record Number: 527 | Macas\n",
      "http://api.openweathermap.org/data/2.5/weather?units=Imperial&APPID=a885ffcdacdd0e4029cda18c950070b7&q=macas\n",
      "Processing Record Number: 528 | Springdale\n",
      "http://api.openweathermap.org/data/2.5/weather?units=Imperial&APPID=a885ffcdacdd0e4029cda18c950070b7&q=springdale\n",
      "Processing Record Number: 529 | Aksay\n",
      "http://api.openweathermap.org/data/2.5/weather?units=Imperial&APPID=a885ffcdacdd0e4029cda18c950070b7&q=aksay\n"
     ]
    },
    {
     "name": "stdout",
     "output_type": "stream",
     "text": [
      "Processing Record Number: 530 | Departamento de Maldonado\n",
      "http://api.openweathermap.org/data/2.5/weather?units=Imperial&APPID=a885ffcdacdd0e4029cda18c950070b7&q=maldonado\n",
      "Processing Record Number: 531 | Makakilo City\n",
      "http://api.openweathermap.org/data/2.5/weather?units=Imperial&APPID=a885ffcdacdd0e4029cda18c950070b7&q=makakilo city\n",
      "Processing Record Number: 532 | Sandnessjøen\n",
      "http://api.openweathermap.org/data/2.5/weather?units=Imperial&APPID=a885ffcdacdd0e4029cda18c950070b7&q=sandnessjoen\n",
      "Processing Record Number: 533 | Priiskovyy\n",
      "http://api.openweathermap.org/data/2.5/weather?units=Imperial&APPID=a885ffcdacdd0e4029cda18c950070b7&q=priiskovyy\n",
      "Processing Record Number: 534 | Cayenne\n",
      "http://api.openweathermap.org/data/2.5/weather?units=Imperial&APPID=a885ffcdacdd0e4029cda18c950070b7&q=cayenne\n",
      "City not found. Moving on to next call\n",
      "Processing Record Number: 535 | Katherine\n",
      "http://api.openweathermap.org/data/2.5/weather?units=Imperial&APPID=a885ffcdacdd0e4029cda18c950070b7&q=katherine\n",
      "City not found. Moving on to next call\n",
      "City not found. Moving on to next call\n",
      "Processing Record Number: 536 | Vazante\n",
      "http://api.openweathermap.org/data/2.5/weather?units=Imperial&APPID=a885ffcdacdd0e4029cda18c950070b7&q=vazante\n",
      "Processing Record Number: 537 | Ratnagiri\n",
      "http://api.openweathermap.org/data/2.5/weather?units=Imperial&APPID=a885ffcdacdd0e4029cda18c950070b7&q=ratnagiri\n",
      "Processing Record Number: 538 | Robe\n",
      "http://api.openweathermap.org/data/2.5/weather?units=Imperial&APPID=a885ffcdacdd0e4029cda18c950070b7&q=robe\n",
      "Processing Record Number: 539 | Krasnosel'kup\n",
      "http://api.openweathermap.org/data/2.5/weather?units=Imperial&APPID=a885ffcdacdd0e4029cda18c950070b7&q=krasnoselkup\n",
      "Processing Record Number: 540 | Alexandria\n",
      "http://api.openweathermap.org/data/2.5/weather?units=Imperial&APPID=a885ffcdacdd0e4029cda18c950070b7&q=alexandria\n",
      "Processing Record Number: 541 | Samfya\n",
      "http://api.openweathermap.org/data/2.5/weather?units=Imperial&APPID=a885ffcdacdd0e4029cda18c950070b7&q=samfya\n",
      "Processing Record Number: 542 | Xining\n",
      "http://api.openweathermap.org/data/2.5/weather?units=Imperial&APPID=a885ffcdacdd0e4029cda18c950070b7&q=xining\n",
      "Processing Record Number: 543 | Agirish\n",
      "http://api.openweathermap.org/data/2.5/weather?units=Imperial&APPID=a885ffcdacdd0e4029cda18c950070b7&q=agirish\n",
      "Processing Record Number: 544 | Sungai Penuh\n",
      "http://api.openweathermap.org/data/2.5/weather?units=Imperial&APPID=a885ffcdacdd0e4029cda18c950070b7&q=sungaipenuh\n",
      "Processing Record Number: 545 | Kiama\n",
      "http://api.openweathermap.org/data/2.5/weather?units=Imperial&APPID=a885ffcdacdd0e4029cda18c950070b7&q=kiama\n",
      "Processing Record Number: 546 | Hervey Bay\n",
      "http://api.openweathermap.org/data/2.5/weather?units=Imperial&APPID=a885ffcdacdd0e4029cda18c950070b7&q=hervey bay\n",
      "Processing Record Number: 547 | Sioux Lookout\n",
      "http://api.openweathermap.org/data/2.5/weather?units=Imperial&APPID=a885ffcdacdd0e4029cda18c950070b7&q=sioux lookout\n",
      "City not found. Moving on to next call\n",
      "City not found. Moving on to next call\n",
      "Processing Record Number: 548 | Ossora\n",
      "http://api.openweathermap.org/data/2.5/weather?units=Imperial&APPID=a885ffcdacdd0e4029cda18c950070b7&q=ossora\n",
      "Processing Record Number: 549 | Abhā\n",
      "http://api.openweathermap.org/data/2.5/weather?units=Imperial&APPID=a885ffcdacdd0e4029cda18c950070b7&q=abha\n",
      "Processing Record Number: 550 | Anchorage\n",
      "http://api.openweathermap.org/data/2.5/weather?units=Imperial&APPID=a885ffcdacdd0e4029cda18c950070b7&q=anchorage\n",
      "Processing Record Number: 551 | Bonavista\n",
      "http://api.openweathermap.org/data/2.5/weather?units=Imperial&APPID=a885ffcdacdd0e4029cda18c950070b7&q=bonavista\n",
      "Processing Record Number: 552 | Muroto-misakicho\n",
      "http://api.openweathermap.org/data/2.5/weather?units=Imperial&APPID=a885ffcdacdd0e4029cda18c950070b7&q=muroto\n",
      "Processing Record Number: 553 | Willmar\n",
      "http://api.openweathermap.org/data/2.5/weather?units=Imperial&APPID=a885ffcdacdd0e4029cda18c950070b7&q=willmar\n",
      "Processing Record Number: 554 | Coahuayana Viejo\n",
      "http://api.openweathermap.org/data/2.5/weather?units=Imperial&APPID=a885ffcdacdd0e4029cda18c950070b7&q=coahuayana\n",
      "Processing Record Number: 555 | Sampit\n",
      "http://api.openweathermap.org/data/2.5/weather?units=Imperial&APPID=a885ffcdacdd0e4029cda18c950070b7&q=sampit\n",
      "Processing Record Number: 556 | Gorontalo\n",
      "http://api.openweathermap.org/data/2.5/weather?units=Imperial&APPID=a885ffcdacdd0e4029cda18c950070b7&q=gorontalo\n",
      "Processing Record Number: 557 | Necochea\n",
      "http://api.openweathermap.org/data/2.5/weather?units=Imperial&APPID=a885ffcdacdd0e4029cda18c950070b7&q=necochea\n",
      "Processing Record Number: 558 | Bereket\n",
      "http://api.openweathermap.org/data/2.5/weather?units=Imperial&APPID=a885ffcdacdd0e4029cda18c950070b7&q=gazanjyk\n",
      "Processing Record Number: 559 | Myitkyina\n",
      "http://api.openweathermap.org/data/2.5/weather?units=Imperial&APPID=a885ffcdacdd0e4029cda18c950070b7&q=myitkyina\n",
      "Processing Record Number: 560 | Grindavik\n",
      "http://api.openweathermap.org/data/2.5/weather?units=Imperial&APPID=a885ffcdacdd0e4029cda18c950070b7&q=grindavik\n",
      "Processing Record Number: 561 | Ariquemes\n",
      "http://api.openweathermap.org/data/2.5/weather?units=Imperial&APPID=a885ffcdacdd0e4029cda18c950070b7&q=ariquemes\n",
      "Processing Record Number: 562 | Saint-Paul-lès-Dax\n",
      "http://api.openweathermap.org/data/2.5/weather?units=Imperial&APPID=a885ffcdacdd0e4029cda18c950070b7&q=saint-paul-les-dax\n",
      "Processing Record Number: 563 | Eganville\n",
      "http://api.openweathermap.org/data/2.5/weather?units=Imperial&APPID=a885ffcdacdd0e4029cda18c950070b7&q=eganville\n",
      "Processing Record Number: 564 | Vanavara\n",
      "http://api.openweathermap.org/data/2.5/weather?units=Imperial&APPID=a885ffcdacdd0e4029cda18c950070b7&q=vanavara\n",
      "Processing Record Number: 565 | Vilyuysk\n",
      "http://api.openweathermap.org/data/2.5/weather?units=Imperial&APPID=a885ffcdacdd0e4029cda18c950070b7&q=vilyuysk\n",
      "Processing Record Number: 566 | Omboué\n",
      "http://api.openweathermap.org/data/2.5/weather?units=Imperial&APPID=a885ffcdacdd0e4029cda18c950070b7&q=omboue\n",
      "Processing Record Number: 567 | Narón\n",
      "http://api.openweathermap.org/data/2.5/weather?units=Imperial&APPID=a885ffcdacdd0e4029cda18c950070b7&q=naron\n",
      "Processing Record Number: 568 | Nabire\n",
      "http://api.openweathermap.org/data/2.5/weather?units=Imperial&APPID=a885ffcdacdd0e4029cda18c950070b7&q=nabire\n",
      "Processing Record Number: 569 | Abu Dhabi\n",
      "http://api.openweathermap.org/data/2.5/weather?units=Imperial&APPID=a885ffcdacdd0e4029cda18c950070b7&q=abu dhabi\n",
      "Processing Record Number: 570 | Pinega\n",
      "http://api.openweathermap.org/data/2.5/weather?units=Imperial&APPID=a885ffcdacdd0e4029cda18c950070b7&q=pinega\n",
      "Processing Record Number: 571 | Launceston\n",
      "http://api.openweathermap.org/data/2.5/weather?units=Imperial&APPID=a885ffcdacdd0e4029cda18c950070b7&q=launceston\n",
      "Processing Record Number: 572 | Vaitape\n",
      "http://api.openweathermap.org/data/2.5/weather?units=Imperial&APPID=a885ffcdacdd0e4029cda18c950070b7&q=vaitape\n",
      "Processing Record Number: 573 | Buzoeşti\n",
      "http://api.openweathermap.org/data/2.5/weather?units=Imperial&APPID=a885ffcdacdd0e4029cda18c950070b7&q=buzoesti\n",
      "Pull done. 573 cities found.\n"
     ]
    }
   ],
   "source": [
    "###Warning: this cell takes a long time to run. Only run it if you have a minute to wait. \n",
    "\n",
    "# Create empty lists to append the API data into lists \n",
    "city_name = []\n",
    "cloudiness = []\n",
    "country = []\n",
    "date = []\n",
    "humidity = []\n",
    "lat = []\n",
    "lng = []\n",
    "max_temp = []\n",
    "wind_speed = []\n",
    "countries =[]\n",
    "\n",
    "# Start the call counter \n",
    "record = 1\n",
    "\n",
    "print('''\n",
    "--------------------------\n",
    "Beginning API Call\n",
    "--------------------------''')\n",
    "\n",
    "#Loop through the cities pulled and stored in the cities list\n",
    "for city in cities:  \n",
    "    \n",
    "    # Try statement to append calls where value is found because they won't all be in the OpenWeatherMap\n",
    "    \n",
    "    try: \n",
    "        response = requests.get(f\"{base_url}&q={city}\").json() \n",
    "        city_name.append(response[\"name\"])\n",
    "        cloudiness.append(response[\"clouds\"][\"all\"])\n",
    "        countries.append(response['sys']['country'])\n",
    "        date.append(response[\"dt\"])\n",
    "        humidity.append(response[\"main\"][\"humidity\"])\n",
    "        max_temp.append(response[\"main\"][\"temp_max\"])\n",
    "        lat.append(response[\"coord\"][\"lat\"])\n",
    "        lng.append(response[\"coord\"][\"lon\"])\n",
    "        wind_speed.append(response[\"wind\"][\"speed\"])\n",
    "        city_record = response[\"name\"]\n",
    "        print(f\"Processing Record Number: {record} | {city_record}\")\n",
    "        print(f\"{base_url}&q={city}\")\n",
    "        \n",
    "        # Increases the counter by 1\n",
    "        record= record + 1\n",
    "        \n",
    "        # This slows down the call so that you don't mess up your free API key...\n",
    "        #go make a cup of tea. this will take a second...\n",
    "        time.sleep(1.01)\n",
    "        \n",
    "    # skips to another call if a record isn't found\n",
    "    except:\n",
    "        print(\"City not found. Moving on to next call\")\n",
    "    continue\n",
    "print(f\"Pull done. {len(city_name)} cities found.\")"
   ]
  },
  {
   "cell_type": "code",
   "execution_count": 37,
   "metadata": {},
   "outputs": [
    {
     "name": "stdout",
     "output_type": "stream",
     "text": [
      "573\n",
      "573\n",
      "573\n",
      "573\n",
      "573\n",
      "573\n",
      "573\n"
     ]
    }
   ],
   "source": [
    "# Print these again to make sure everything ended up the same length\n",
    "\n",
    "print(len(countries))\n",
    "print(len(cloudiness))\n",
    "print(len(max_temp))\n",
    "print(len(date))\n",
    "print(len(humidity))\n",
    "print(len(lat))\n",
    "print(len(lng))\n"
   ]
  },
  {
   "cell_type": "markdown",
   "metadata": {},
   "source": [
    "### Convert Raw Data to DataFrame\n",
    "* Export the city data into a .csv.\n",
    "* Display the DataFrame"
   ]
  },
  {
   "cell_type": "code",
   "execution_count": 40,
   "metadata": {},
   "outputs": [
    {
     "data": {
      "text/html": [
       "<div>\n",
       "<style scoped>\n",
       "    .dataframe tbody tr th:only-of-type {\n",
       "        vertical-align: middle;\n",
       "    }\n",
       "\n",
       "    .dataframe tbody tr th {\n",
       "        vertical-align: top;\n",
       "    }\n",
       "\n",
       "    .dataframe thead th {\n",
       "        text-align: right;\n",
       "    }\n",
       "</style>\n",
       "<table border=\"1\" class=\"dataframe\">\n",
       "  <thead>\n",
       "    <tr style=\"text-align: right;\">\n",
       "      <th></th>\n",
       "      <th>Cities</th>\n",
       "      <th>Cloudiness</th>\n",
       "      <th>Country</th>\n",
       "      <th>Date</th>\n",
       "      <th>Humidity</th>\n",
       "      <th>Latitude</th>\n",
       "      <th>Longitude</th>\n",
       "      <th>Max Temperature</th>\n",
       "      <th>Wind Speed</th>\n",
       "    </tr>\n",
       "  </thead>\n",
       "  <tbody>\n",
       "    <tr>\n",
       "      <th>0</th>\n",
       "      <td>Hambantota</td>\n",
       "      <td>97</td>\n",
       "      <td>LK</td>\n",
       "      <td>1610148898</td>\n",
       "      <td>85</td>\n",
       "      <td>6.1241</td>\n",
       "      <td>81.1185</td>\n",
       "      <td>76.77</td>\n",
       "      <td>5.03</td>\n",
       "    </tr>\n",
       "    <tr>\n",
       "      <th>1</th>\n",
       "      <td>Vaini</td>\n",
       "      <td>40</td>\n",
       "      <td>TO</td>\n",
       "      <td>1610148899</td>\n",
       "      <td>79</td>\n",
       "      <td>-21.2000</td>\n",
       "      <td>-175.2000</td>\n",
       "      <td>84.20</td>\n",
       "      <td>10.36</td>\n",
       "    </tr>\n",
       "    <tr>\n",
       "      <th>2</th>\n",
       "      <td>Te Anau</td>\n",
       "      <td>11</td>\n",
       "      <td>NZ</td>\n",
       "      <td>1610148900</td>\n",
       "      <td>48</td>\n",
       "      <td>-45.4167</td>\n",
       "      <td>167.7167</td>\n",
       "      <td>64.99</td>\n",
       "      <td>4.41</td>\n",
       "    </tr>\n",
       "    <tr>\n",
       "      <th>3</th>\n",
       "      <td>Ranong</td>\n",
       "      <td>20</td>\n",
       "      <td>TH</td>\n",
       "      <td>1610148902</td>\n",
       "      <td>88</td>\n",
       "      <td>9.9658</td>\n",
       "      <td>98.6348</td>\n",
       "      <td>75.20</td>\n",
       "      <td>4.52</td>\n",
       "    </tr>\n",
       "    <tr>\n",
       "      <th>4</th>\n",
       "      <td>Balkanabat</td>\n",
       "      <td>0</td>\n",
       "      <td>TM</td>\n",
       "      <td>1610148789</td>\n",
       "      <td>62</td>\n",
       "      <td>39.5108</td>\n",
       "      <td>54.3671</td>\n",
       "      <td>38.37</td>\n",
       "      <td>5.46</td>\n",
       "    </tr>\n",
       "  </tbody>\n",
       "</table>\n",
       "</div>"
      ],
      "text/plain": [
       "       Cities  Cloudiness Country        Date  Humidity  Latitude  Longitude  \\\n",
       "0  Hambantota          97      LK  1610148898        85    6.1241    81.1185   \n",
       "1       Vaini          40      TO  1610148899        79  -21.2000  -175.2000   \n",
       "2     Te Anau          11      NZ  1610148900        48  -45.4167   167.7167   \n",
       "3      Ranong          20      TH  1610148902        88    9.9658    98.6348   \n",
       "4  Balkanabat           0      TM  1610148789        62   39.5108    54.3671   \n",
       "\n",
       "   Max Temperature  Wind Speed  \n",
       "0            76.77        5.03  \n",
       "1            84.20       10.36  \n",
       "2            64.99        4.41  \n",
       "3            75.20        4.52  \n",
       "4            38.37        5.46  "
      ]
     },
     "execution_count": 40,
     "metadata": {},
     "output_type": "execute_result"
    }
   ],
   "source": [
    "#make a dataframe to store the data in (note: we need to clean up the data before we add in the other variables)\n",
    "weather_dataframe =pd.DataFrame({'Cities': city_name, 'Cloudiness': cloudiness, 'Country': countries, 'Date': date, 'Humidity': humidity, 'Latitude': lat, 'Longitude': lng, 'Max Temperature': max_temp, 'Wind Speed': wind_speed})\n",
    "#make sure it looks ok!\n",
    "weather_dataframe.head()"
   ]
  },
  {
   "cell_type": "code",
   "execution_count": 49,
   "metadata": {},
   "outputs": [],
   "source": [
    "#send to CSV\n",
    "weather_dataframe.to_csv('../output_data/WeatherPyData.csv', index=False)"
   ]
  },
  {
   "cell_type": "markdown",
   "metadata": {},
   "source": [
    "## Inspect the data and remove the cities where the humidity > 100%.\n",
    "----\n",
    "Skip this step if there are no cities that have humidity > 100%. "
   ]
  },
  {
   "cell_type": "code",
   "execution_count": 44,
   "metadata": {},
   "outputs": [
    {
     "data": {
      "text/plain": [
       "0"
      ]
     },
     "execution_count": 44,
     "metadata": {},
     "output_type": "execute_result"
    }
   ],
   "source": [
    "citieshumidity = weather_dataframe.loc[weather_dataframe['Humidity'] > 100]\n",
    "len(citieshumidity)"
   ]
  },
  {
   "cell_type": "code",
   "execution_count": 6,
   "metadata": {},
   "outputs": [],
   "source": [
    "#  Get the indices of cities that have humidity over 100%.\n"
   ]
  },
  {
   "cell_type": "code",
   "execution_count": 7,
   "metadata": {},
   "outputs": [],
   "source": [
    "# Make a new DataFrame equal to the city data to drop all humidity outliers by index.\n",
    "# Passing \"inplace=False\" will make a copy of the city_data DataFrame, which we call \"clean_city_data\".\n"
   ]
  },
  {
   "cell_type": "code",
   "execution_count": null,
   "metadata": {},
   "outputs": [],
   "source": [
    "\n"
   ]
  },
  {
   "cell_type": "markdown",
   "metadata": {},
   "source": [
    "## Plotting the Data\n",
    "* Use proper labeling of the plots using plot titles (including date of analysis) and axes labels.\n",
    "* Save the plotted figures as .pngs."
   ]
  },
  {
   "cell_type": "markdown",
   "metadata": {},
   "source": [
    "## Latitude vs. Temperature Plot"
   ]
  },
  {
   "cell_type": "code",
   "execution_count": 106,
   "metadata": {
    "scrolled": true
   },
   "outputs": [
    {
     "data": {
      "image/png": "[encoded data removed]",
      "text/plain": [
       "<Figure size 432x288 with 1 Axes>"
      ]
     },
     "metadata": {
      "needs_background": "light"
     },
     "output_type": "display_data"
    }
   ],
   "source": [
    "plt.scatter(weather_dataframe[\"Latitude\"], weather_dataframe[\"Max Temperature\"], marker=\".\", color= \"red\")\n",
    "\n",
    "plt.title(\"Maximum Temperatures for Latitudes\")\n",
    "plt.ylabel(\"Temperature (F)\")\n",
    "plt.xlabel(\"Latitude\")\n",
    "\n",
    "plt.savefig(\"../Images/LatitudeMaxTempData.png\")\n",
    "\n",
    "plt.show()\n"
   ]
  },
  {
   "cell_type": "markdown",
   "metadata": {},
   "source": [
    "## Latitude vs. Humidity Plot"
   ]
  },
  {
   "cell_type": "code",
   "execution_count": 107,
   "metadata": {},
   "outputs": [
    {
     "data": {
      "image/png": "[encoded data removed]",
      "text/plain": [
       "<Figure size 432x288 with 1 Axes>"
      ]
     },
     "metadata": {
      "needs_background": "light"
     },
     "output_type": "display_data"
    }
   ],
   "source": [
    "plt.scatter(weather_dataframe[\"Latitude\"], weather_dataframe[\"Humidity\"], marker=\".\", color= \"blue\")\n",
    "\n",
    "plt.title(\"Humidity Values for Latitudes\")\n",
    "plt.ylabel(\"Humidity\")\n",
    "plt.xlabel(\"Latitude\")\n",
    "\n",
    "plt.savefig(\"../Images/LatitudeHumidityData.png\")\n",
    "\n",
    "plt.show()"
   ]
  },
  {
   "cell_type": "markdown",
   "metadata": {},
   "source": [
    "## Latitude vs. Cloudiness Plot"
   ]
  },
  {
   "cell_type": "code",
   "execution_count": 108,
   "metadata": {},
   "outputs": [
    {
     "data": {
      "image/png": "[encoded data removed]",
      "text/plain": [
       "<Figure size 432x288 with 1 Axes>"
      ]
     },
     "metadata": {
      "needs_background": "light"
     },
     "output_type": "display_data"
    }
   ],
   "source": [
    "plt.scatter(weather_dataframe[\"Latitude\"], weather_dataframe[\"Cloudiness\"], marker=\"x\", color= \"c\")\n",
    "\n",
    "plt.title(\"Cloudiness for Latitudes\")\n",
    "plt.ylabel(\"Cloudiness\")\n",
    "plt.xlabel(\"Latitude\")\n",
    "\n",
    "plt.savefig(\"../Images/LatitudeCloudData.png\")\n",
    "\n",
    "plt.show()"
   ]
  },
  {
   "cell_type": "markdown",
   "metadata": {},
   "source": [
    "## Latitude vs. Wind Speed Plot"
   ]
  },
  {
   "cell_type": "code",
   "execution_count": 109,
   "metadata": {},
   "outputs": [
    {
     "data": {
      "image/png": "[encoded data removed]",
      "text/plain": [
       "<Figure size 432x288 with 1 Axes>"
      ]
     },
     "metadata": {
      "needs_background": "light"
     },
     "output_type": "display_data"
    }
   ],
   "source": [
    "plt.scatter(weather_dataframe[\"Latitude\"], weather_dataframe[\"Wind Speed\"], marker=\"4\", color= \"slategray\")\n",
    "\n",
    "plt.title(\"Windspeed for Latitudes\")\n",
    "plt.ylabel(\"Windspeed\")\n",
    "plt.xlabel(\"Latitude\")\n",
    "\n",
    "plt.savefig(\"../Images/LatitudeWindSpeedData.png\")\n",
    "\n",
    "plt.show()"
   ]
  },
  {
   "cell_type": "markdown",
   "metadata": {},
   "source": [
    "## Linear Regression"
   ]
  },
  {
   "cell_type": "code",
   "execution_count": 57,
   "metadata": {},
   "outputs": [
    {
     "name": "stdout",
     "output_type": "stream",
     "text": [
      "396\n",
      "177\n"
     ]
    }
   ],
   "source": [
    "#calculate the northern and souther hemisphere data\n",
    "northernhem = weather_dataframe.loc[weather_dataframe['Latitude'] > 0]\n",
    "southernhem = weather_dataframe.loc[weather_dataframe['Latitude'] < 0]\n",
    "print(len(northernhem))\n",
    "print(len(southernhem))"
   ]
  },
  {
   "cell_type": "markdown",
   "metadata": {},
   "source": [
    "####  Northern Hemisphere - Max Temp vs. Latitude Linear Regression"
   ]
  },
  {
   "cell_type": "code",
   "execution_count": 110,
   "metadata": {},
   "outputs": [
    {
     "data": {
      "image/png": "[encoded data removed]",
      "text/plain": [
       "<Figure size 432x288 with 1 Axes>"
      ]
     },
     "metadata": {
      "needs_background": "light"
     },
     "output_type": "display_data"
    },
    {
     "name": "stdout",
     "output_type": "stream",
     "text": [
      "r squared: 0.7311747935539931\n"
     ]
    },
    {
     "data": {
      "text/plain": [
       "<Figure size 432x288 with 0 Axes>"
      ]
     },
     "metadata": {},
     "output_type": "display_data"
    }
   ],
   "source": [
    "xval = northernhem['Latitude']\n",
    "yval = northernhem['Max Temperature']\n",
    "\n",
    "(slope, intercept, rvalue, pvalue, stderr) = linregress(xval, yval)\n",
    "\n",
    "regressionvals = xval * slope + intercept\n",
    "equation = f'y = {str(round(slope,2))}x + {str(round(intercept,2))}'\n",
    "plt.scatter(xval,yval)\n",
    "plt.plot(xval, regressionvals, \"r-\")\n",
    "plt.annotate(equation,(2,2), fontsize=12, color=\"green\")\n",
    "plt.title(\"Max Temp vs Latitude\")\n",
    "plt.xlabel(\"Latitude\")\n",
    "plt.ylabel(\"Temperature (F)\")\n",
    "plt.show()\n",
    "plt.savefig(\"../Images/MaxTempLatNorth.png\")\n",
    "print(f\"r squared: {rvalue**2}\")"
   ]
  },
  {
   "cell_type": "markdown",
   "metadata": {},
   "source": [
    "####  Southern Hemisphere - Max Temp vs. Latitude Linear Regression"
   ]
  },
  {
   "cell_type": "code",
   "execution_count": 111,
   "metadata": {},
   "outputs": [
    {
     "data": {
      "image/png": "[encoded data removed]",
      "text/plain": [
       "<Figure size 432x288 with 1 Axes>"
      ]
     },
     "metadata": {
      "needs_background": "light"
     },
     "output_type": "display_data"
    },
    {
     "name": "stdout",
     "output_type": "stream",
     "text": [
      "r squared: 0.2122695982730075\n"
     ]
    },
    {
     "data": {
      "text/plain": [
       "<Figure size 432x288 with 0 Axes>"
      ]
     },
     "metadata": {},
     "output_type": "display_data"
    }
   ],
   "source": [
    "xval = southernhem['Latitude']\n",
    "yval = southernhem['Max Temperature']\n",
    "\n",
    "(slope, intercept, rvalue, pvalue, stderr) = linregress(xval, yval)\n",
    "\n",
    "regressionvals = xval * slope + intercept\n",
    "equation = f'y = {str(round(slope,2))}x + {str(round(intercept,2))}'\n",
    "plt.scatter(xval,yval)\n",
    "plt.plot(xval, regressionvals, \"r-\")\n",
    "plt.annotate(equation,(20,20), fontsize=12, color=\"green\")\n",
    "plt.title(\"Max Temp vs Latitude\")\n",
    "plt.xlabel(\"Latitude\")\n",
    "plt.ylabel(\"Temperature (F)\")\n",
    "plt.show()\n",
    "plt.savefig(\"../Images/MaxTempLatSouth.png\")\n",
    "print(f\"r squared: {rvalue**2}\")"
   ]
  },
  {
   "cell_type": "markdown",
   "metadata": {},
   "source": [
    "####  Northern Hemisphere - Humidity (%) vs. Latitude Linear Regression"
   ]
  },
  {
   "cell_type": "code",
   "execution_count": 115,
   "metadata": {},
   "outputs": [
    {
     "data": {
      "image/png": "[encoded data removed]",
      "text/plain": [
       "<Figure size 432x288 with 1 Axes>"
      ]
     },
     "metadata": {
      "needs_background": "light"
     },
     "output_type": "display_data"
    },
    {
     "name": "stdout",
     "output_type": "stream",
     "text": [
      "r squared: 0.11835141772590477\n"
     ]
    },
    {
     "data": {
      "text/plain": [
       "<Figure size 432x288 with 0 Axes>"
      ]
     },
     "metadata": {},
     "output_type": "display_data"
    }
   ],
   "source": [
    "xval = northernhem['Latitude']\n",
    "yval = northernhem['Humidity']\n",
    "\n",
    "(slope, intercept, rvalue, pvalue, stderr) = linregress(xval, yval)\n",
    "\n",
    "regressionvals = xval * slope + intercept\n",
    "equation = f'y = {str(round(slope,2))}x + {str(round(intercept,2))}'\n",
    "plt.scatter(xval,yval)\n",
    "plt.plot(xval, regressionvals, \"g-\")\n",
    "plt.annotate(equation,(50,20), fontsize=12, color=\"green\")\n",
    "plt.title(\"Humidity vs Latitude\")\n",
    "plt.xlabel(\"Latitude\")\n",
    "plt.ylabel(\"Humidity (%)\")\n",
    "plt.show()\n",
    "plt.savefig(\"../Images/HumidityLatNorth.png\")\n",
    "print(f\"r squared: {rvalue**2}\")"
   ]
  },
  {
   "cell_type": "markdown",
   "metadata": {},
   "source": [
    "####  Southern Hemisphere - Humidity (%) vs. Latitude Linear Regression"
   ]
  },
  {
   "cell_type": "code",
   "execution_count": 114,
   "metadata": {},
   "outputs": [
    {
     "data": {
      "image/png": "[encoded data removed]",
      "text/plain": [
       "<Figure size 432x288 with 1 Axes>"
      ]
     },
     "metadata": {
      "needs_background": "light"
     },
     "output_type": "display_data"
    },
    {
     "name": "stdout",
     "output_type": "stream",
     "text": [
      "r squared: 0.18816413982130858\n"
     ]
    },
    {
     "data": {
      "text/plain": [
       "<Figure size 432x288 with 0 Axes>"
      ]
     },
     "metadata": {},
     "output_type": "display_data"
    }
   ],
   "source": [
    "xval = southernhem['Latitude']\n",
    "yval = southernhem['Humidity']\n",
    "\n",
    "(slope, intercept, rvalue, pvalue, stderr) = linregress(xval, yval)\n",
    "\n",
    "regressionvals = xval * slope + intercept\n",
    "equation = f'y = {str(round(slope,2))}x + {str(round(intercept,2))}'\n",
    "plt.scatter(xval,yval)\n",
    "plt.plot(xval, regressionvals, \"g-\")\n",
    "plt.annotate(equation,(2,20), fontsize=12, color=\"green\")\n",
    "plt.title(\"Humidity vs Latitude\")\n",
    "plt.xlabel(\"Latitude\")\n",
    "plt.ylabel(\"Humidity (%)\")\n",
    "plt.show()\n",
    "plt.savefig(\"../Images/HumidLatSouth.png\")\n",
    "print(f\"r squared: {rvalue**2}\")"
   ]
  },
  {
   "cell_type": "markdown",
   "metadata": {},
   "source": [
    "####  Northern Hemisphere - Cloudiness (%) vs. Latitude Linear Regression"
   ]
  },
  {
   "cell_type": "code",
   "execution_count": 116,
   "metadata": {},
   "outputs": [
    {
     "data": {
      "image/png": "[encoded data removed]",
      "text/plain": [
       "<Figure size 432x288 with 1 Axes>"
      ]
     },
     "metadata": {
      "needs_background": "light"
     },
     "output_type": "display_data"
    },
    {
     "name": "stdout",
     "output_type": "stream",
     "text": [
      "r squared: 0.06252706540287531\n"
     ]
    },
    {
     "data": {
      "text/plain": [
       "<Figure size 432x288 with 0 Axes>"
      ]
     },
     "metadata": {},
     "output_type": "display_data"
    }
   ],
   "source": [
    "xval = northernhem['Latitude']\n",
    "yval = northernhem['Cloudiness']\n",
    "\n",
    "(slope, intercept, rvalue, pvalue, stderr) = linregress(xval, yval)\n",
    "\n",
    "regressionvals = xval * slope + intercept\n",
    "equation = f'y = {str(round(slope,2))}x + {str(round(intercept,2))}'\n",
    "plt.scatter(xval,yval)\n",
    "plt.plot(xval, regressionvals, \"b-\")\n",
    "plt.annotate(equation,(3,10), fontsize=15, color=\"black\")\n",
    "plt.title(\"Cloudiness vs Latitude\")\n",
    "plt.xlabel(\"Latitude\")\n",
    "plt.ylabel(\"Cloudiness (%)\")\n",
    "plt.show()\n",
    "plt.savefig(\"../Images/CloudLatNorth.png\")\n",
    "print(f\"r squared: {rvalue**2}\")"
   ]
  },
  {
   "cell_type": "markdown",
   "metadata": {},
   "source": [
    "####  Southern Hemisphere - Cloudiness (%) vs. Latitude Linear Regression"
   ]
  },
  {
   "cell_type": "code",
   "execution_count": 117,
   "metadata": {},
   "outputs": [
    {
     "data": {
      "image/png": "[encoded data removed]",
      "text/plain": [
       "<Figure size 432x288 with 1 Axes>"
      ]
     },
     "metadata": {
      "needs_background": "light"
     },
     "output_type": "display_data"
    },
    {
     "name": "stdout",
     "output_type": "stream",
     "text": [
      "r squared: 0.09677043840909252\n"
     ]
    },
    {
     "data": {
      "text/plain": [
       "<Figure size 432x288 with 0 Axes>"
      ]
     },
     "metadata": {},
     "output_type": "display_data"
    }
   ],
   "source": [
    "xval = southernhem['Latitude']\n",
    "yval = southernhem['Cloudiness']\n",
    "\n",
    "(slope, intercept, rvalue, pvalue, stderr) = linregress(xval, yval)\n",
    "\n",
    "regressionvals = xval * slope + intercept\n",
    "equation = f'y = {str(round(slope,2))}x + {str(round(intercept,2))}'\n",
    "plt.scatter(xval,yval)\n",
    "plt.plot(xval, regressionvals, \"b-\")\n",
    "plt.annotate(equation,(2,20), fontsize=15, color=\"black\")\n",
    "plt.title(\"Cloudiness vs Latitude\")\n",
    "plt.xlabel(\"Latitude\")\n",
    "plt.ylabel(\"Cloudiness (%)\")\n",
    "plt.show()\n",
    "plt.savefig(\"../Images/CloudLatSouth.png\")\n",
    "print(f\"r squared: {rvalue**2}\")"
   ]
  },
  {
   "cell_type": "markdown",
   "metadata": {},
   "source": [
    "####  Northern Hemisphere - Wind Speed (mph) vs. Latitude Linear Regression"
   ]
  },
  {
   "cell_type": "code",
   "execution_count": 118,
   "metadata": {},
   "outputs": [
    {
     "data": {
      "image/png": "[encoded data removed]",
      "text/plain": [
       "<Figure size 432x288 with 1 Axes>"
      ]
     },
     "metadata": {
      "needs_background": "light"
     },
     "output_type": "display_data"
    },
    {
     "name": "stdout",
     "output_type": "stream",
     "text": [
      "r squared: 0.00023339634472501798\n"
     ]
    },
    {
     "data": {
      "text/plain": [
       "<Figure size 432x288 with 0 Axes>"
      ]
     },
     "metadata": {},
     "output_type": "display_data"
    }
   ],
   "source": [
    "xval = northernhem['Latitude']\n",
    "yval = northernhem['Wind Speed']\n",
    "\n",
    "(slope, intercept, rvalue, pvalue, stderr) = linregress(xval, yval)\n",
    "\n",
    "regressionvals = xval * slope + intercept\n",
    "equation = f'y = {str(round(slope,2))}x + {str(round(intercept,2))}'\n",
    "plt.scatter(xval,yval)\n",
    "plt.plot(xval, regressionvals, \"black\")\n",
    "plt.annotate(equation,(2,30), fontsize=15, color=\"black\")\n",
    "plt.title(\"Wind Speed vs Latitude\")\n",
    "plt.xlabel(\"Latitude\")\n",
    "plt.ylabel(\"Windspeed (mph)\")\n",
    "plt.ylim(0,35)\n",
    "plt.show()\n",
    "plt.savefig(\"../Images/WindLatNorth.png\")\n",
    "print(f\"r squared: {rvalue**2}\")"
   ]
  },
  {
   "cell_type": "markdown",
   "metadata": {},
   "source": [
    "####  Southern Hemisphere - Wind Speed (mph) vs. Latitude Linear Regression"
   ]
  },
  {
   "cell_type": "code",
   "execution_count": 119,
   "metadata": {
    "scrolled": true
   },
   "outputs": [
    {
     "data": {
      "image/png": "[encoded data removed]",
      "text/plain": [
       "<Figure size 432x288 with 1 Axes>"
      ]
     },
     "metadata": {
      "needs_background": "light"
     },
     "output_type": "display_data"
    },
    {
     "name": "stdout",
     "output_type": "stream",
     "text": [
      "r squared: 0.056172210592108654\n"
     ]
    },
    {
     "data": {
      "text/plain": [
       "<Figure size 432x288 with 0 Axes>"
      ]
     },
     "metadata": {},
     "output_type": "display_data"
    }
   ],
   "source": [
    "xval = southernhem['Latitude']\n",
    "yval = southernhem['Wind Speed']\n",
    "\n",
    "(slope, intercept, rvalue, pvalue, stderr) = linregress(xval, yval)\n",
    "\n",
    "regressionvals = xval * slope + intercept\n",
    "equation = f'y = {str(round(slope,2))}x + {str(round(intercept,2))}'\n",
    "plt.scatter(xval,yval)\n",
    "plt.plot(xval, regressionvals, \"black\")\n",
    "plt.annotate(equation,(2,30), fontsize=15, color=\"black\")\n",
    "plt.title(\"Wind Speed vs Latitude\")\n",
    "plt.xlabel(\"Latitude\")\n",
    "plt.ylabel(\"Windspeed (mph)\")\n",
    "plt.ylim(0,35)\n",
    "plt.show()\n",
    "plt.savefig(\"../Images/WindLatSouth.png\")\n",
    "print(f\"r squared: {rvalue**2}\")"
   ]
  },
  {
   "cell_type": "markdown",
   "metadata": {},
   "source": [
    "# For Part I, you must include a written description of three observable trends based on the data.\n"
   ]
  },
  {
   "cell_type": "markdown",
   "metadata": {},
   "source": [
    "1. As you move closer to the equator in both the norther and southern hemispheres, temperature goes up. The correlation between latitude and maximum temperature is fairly robust. \n",
    "2. It becomes more cloudy as you move away from the equator in the nothern hemisphere and more cloudy as you get closer to the equator in the southern hemisphere. However, this assocation is very weak. It appears to not be very cloudy at all further away from the equator in the southern hemisphere. This may be dragging the slope of the line to be more positive. \n",
    "3. Wind speed is pretty uniform, especially in the northern hemisphere. There aren't a lot of southern hemisphere wind speed data as you move farther from the equator.Because of this, I would also predict that the assocation between these two variables are also comparable to that in the northern hemisphere."
   ]
  },
  {
   "cell_type": "code",
   "execution_count": null,
   "metadata": {},
   "outputs": [],
   "source": []
  }
 ],
 "metadata": {
  "anaconda-cloud": {},
  "kernel_info": {
   "name": "python3"
  },
  "kernelspec": {
   "display_name": "Python 3",
   "language": "python",
   "name": "python3"
  },
  "language_info": {
   "codemirror_mode": {
    "name": "ipython",
    "version": 3
   },
   "file_extension": ".py",
   "mimetype": "text/x-python",
   "name": "python",
   "nbconvert_exporter": "python",
   "pygments_lexer": "ipython3",
   "version": "3.8.3"
  },
  "latex_envs": {
   "LaTeX_envs_menu_present": true,
   "autoclose": false,
   "autocomplete": true,
   "bibliofile": "biblio.bib",
   "cite_by": "apalike",
   "current_citInitial": 1,
   "eqLabelWithNumbers": true,
   "eqNumInitial": 1,
   "hotkeys": {
    "equation": "Ctrl-E",
    "itemize": "Ctrl-I"
   },
   "labels_anchors": false,
   "latex_user_defs": false,
   "report_style_numbering": false,
   "user_envs_cfg": false
  },
  "nteract": {
   "version": "0.12.3"
  }
 },
 "nbformat": 4,
 "nbformat_minor": 2
}
